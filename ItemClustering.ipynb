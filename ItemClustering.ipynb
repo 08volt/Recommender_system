{
 "cells": [
  {
   "cell_type": "code",
   "execution_count": 1,
   "metadata": {},
   "outputs": [],
   "source": [
    "import time\n",
    "import warnings\n",
    "import os\n",
    "\n",
    "import numpy as np\n",
    "import matplotlib.pyplot as plt\n",
    "\n",
    "from sklearn import cluster, datasets, mixture\n",
    "from sklearn.neighbors import kneighbors_graph\n",
    "from sklearn.preprocessing import StandardScaler\n",
    "from itertools import cycle, islice\n",
    "%matplotlib inline\n",
    "\n",
    "np.random.seed(0)"
   ]
  },
  {
   "cell_type": "code",
   "execution_count": 5,
   "metadata": {},
   "outputs": [],
   "source": [
    "ICM_file = open(\"datasets/data_ICM_title_abstract.csv\", 'r')\n",
    "\n",
    "def rowSplit (rowString):\n",
    "    \n",
    "    split = rowString.split(\",\")\n",
    "    split[2] = split[2].replace(\"\\n\",\"\")\n",
    "    \n",
    "    split[0] = int(split[0])#itemID = row\n",
    "    split[1] = int(split[1])#feature = column\n",
    "    split[2] = int(float(split[2]))#value\n",
    "    result = tuple(split)\n",
    "    \n",
    "    return result\n",
    "\n",
    "\n",
    "\n",
    "ICM_file.seek(0)\n",
    "ICM_tuples = []\n",
    "ICM_file.readline()#questa è importante di cristo c'è riga di introduzione\n",
    "for line in ICM_file:\n",
    "    ICM_tuples.append(rowSplit (line))\n",
    "\n",
    "\n",
    "#ora devo costruire saggiamente la matrice\n",
    "\n",
    "\n",
    "data = np.array(ICM_tuples)\n",
    "#print(\"Numero di rating:\"+str(data.shape[0]))\n",
    "#crea URM\n",
    "result = np.zeros((data[:,0].max()+1, data[:,1].max()+1), dtype=int)\n",
    "result[data[:,0], data[:,1]] = data[:,2] \n",
    "\n",
    "itemList=set(data[:,0])#significa tutte le righe considerando solo la colonna 1\n",
    "featureList=set(data[:,1])\n",
    "valuesList=data.shape[0]\n",
    "\n"
   ]
  },
  {
   "cell_type": "code",
   "execution_count": 12,
   "metadata": {},
   "outputs": [
    {
     "name": "stdout",
     "output_type": "stream",
     "text": [
      "features ids: 19999\n",
      "Num Items: 25950\n",
      "Num Features: 19998\n",
      "Num Values: 490691\n",
      "(25975, 20000)\n"
     ]
    }
   ],
   "source": [
    "print(\"features ids: \"+str(max(featureList)))\n",
    "print(\"Num Items: \"+str(len(itemList)))\n",
    "print(\"Num Features: \"+str(len(featureList)))\n",
    "print(\"Num Values: \"+str(valuesList)) #sarà righe-1 di itnestazione\n",
    "print(result.shape)#forma della matrice \n",
    "\n",
    "\n",
    "import scipy.sparse as sps\n",
    "\n",
    "ICM_all = sps.coo_matrix(result)\n",
    "ICM_all = ICM_all.tocsr()"
   ]
  },
  {
   "cell_type": "code",
   "execution_count": 14,
   "metadata": {},
   "outputs": [
    {
     "data": {
      "text/plain": [
       "<25975x20000 sparse matrix of type '<class 'numpy.longlong'>'\n",
       "\twith 21970 stored elements in Compressed Sparse Row format>"
      ]
     },
     "execution_count": 14,
     "metadata": {},
     "output_type": "execute_result"
    }
   ],
   "source": [
    "ICM_all"
   ]
  },
  {
   "cell_type": "code",
   "execution_count": 15,
   "metadata": {},
   "outputs": [],
   "source": [
    "bandwidth = 0.8\n",
    "ms2 = cluster.MeanShift(bandwidth=bandwidth, bin_seeding=True)"
   ]
  },
  {
   "cell_type": "code",
   "execution_count": null,
   "metadata": {},
   "outputs": [],
   "source": [
    "ms2.fit(ICM_all.toarray())\n",
    "y_pred = ms2.predict(ICM_all)"
   ]
  },
  {
   "cell_type": "code",
   "execution_count": null,
   "metadata": {},
   "outputs": [],
   "source": []
  }
 ],
 "metadata": {
  "kernelspec": {
   "display_name": "Python 3",
   "language": "python",
   "name": "python3"
  },
  "language_info": {
   "codemirror_mode": {
    "name": "ipython",
    "version": 3
   },
   "file_extension": ".py",
   "mimetype": "text/x-python",
   "name": "python",
   "nbconvert_exporter": "python",
   "pygments_lexer": "ipython3",
   "version": "3.7.6"
  }
 },
 "nbformat": 4,
 "nbformat_minor": 4
}
