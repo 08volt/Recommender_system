{
 "cells": [
  {
   "cell_type": "markdown",
   "metadata": {},
   "source": [
    "# WEIGHTED CB + CBF"
   ]
  },
  {
   "cell_type": "code",
   "execution_count": 1,
   "metadata": {},
   "outputs": [],
   "source": [
    "import matplotlib.pyplot as pyplot\n",
    "%matplotlib inline \n",
    "import sys\n",
    "sys.path.insert(0, '../Lab/')\n",
    "import numpy as np"
   ]
  },
  {
   "cell_type": "code",
   "execution_count": 2,
   "metadata": {},
   "outputs": [],
   "source": [
    "sys.path.insert(0, '../datasets/')\n",
    "from load_tables import load_ICM_csr, load_URM_csr\n",
    "ICM_all = load_ICM_csr()\n",
    "URM_all = load_URM_csr()"
   ]
  },
  {
   "cell_type": "markdown",
   "metadata": {},
   "source": [
    "Let's use the DataReader provided with the course repo"
   ]
  },
  {
   "cell_type": "code",
   "execution_count": 3,
   "metadata": {},
   "outputs": [],
   "source": [
    "from Base.Evaluation.Evaluator import EvaluatorHoldout\n",
    "from Data_manager.split_functions.split_train_validation_random_holdout import split_train_in_two_percentage_global_sample"
   ]
  },
  {
   "cell_type": "code",
   "execution_count": 4,
   "metadata": {},
   "outputs": [],
   "source": [
    "from Notebooks_utils.data_splitter import train_test_holdout\n",
    "\n",
    "#URM_train, URM_test = train_test_holdout(URM_all, train_perc = 0.8)\n",
    "URM_train, URM_validation = train_test_holdout(URM_all, train_perc = 0.9)\n",
    "evaluator_validation = EvaluatorHoldout(URM_validation, cutoff_list=[10])\n",
    "#evaluator_test = EvaluatorHoldout(URM_test, cutoff_list=[10])"
   ]
  },
  {
   "cell_type": "code",
   "execution_count": 5,
   "metadata": {},
   "outputs": [],
   "source": [
    "best_params_ItemKNNCF = {'topK': 100, 'shrink': 0.0, 'similarity': 'cosine', 'normalize': True}\n",
    "best_params_ItemKNNCBF = {'topK': 100, 'shrink': 0.0, 'similarity': 'cosine', 'normalize': True}"
   ]
  },
  {
   "cell_type": "code",
   "execution_count": 6,
   "metadata": {},
   "outputs": [
    {
     "name": "stdout",
     "output_type": "stream",
     "text": [
      "ItemKNNCFRecommender: URM Detected 21 (0.26 %) cold users.\n",
      "ItemKNNCFRecommender: URM Detected 1640 (6.31 %) cold items.\n",
      "Unable to load Cython Compute_Similarity, reverting to Python\n",
      "Similarity column 25975 ( 100 % ), 2167.12 column/sec, elapsed time 0.20 min\n",
      "ItemKNNCBFRecommender: URM Detected 21 (0.26 %) cold users.\n",
      "ItemKNNCBFRecommender: URM Detected 1640 (6.31 %) cold items.\n",
      "Unable to load Cython Compute_Similarity, reverting to Python\n",
      "Similarity column 25975 ( 100 % ), 1136.97 column/sec, elapsed time 0.38 min\n"
     ]
    }
   ],
   "source": [
    "from KNN.ItemKNNCFRecommender import ItemKNNCFRecommender\n",
    "from KNN.ItemKNNCBFRecommender import ItemKNNCBFRecommender\n",
    "\n",
    "\n",
    "itemKNNCF = ItemKNNCFRecommender(URM_train)\n",
    "itemKNNCF.fit(**best_params_ItemKNNCF)\n",
    "\n",
    "itemKNNCBF = ItemKNNCBFRecommender(URM_train, ICM_all)\n",
    "itemKNNCBF.fit(**best_params_ItemKNNCBF)"
   ]
  },
  {
   "cell_type": "code",
   "execution_count": 7,
   "metadata": {},
   "outputs": [],
   "source": [
    "W_sparse_CF = itemKNNCF.W_sparse\n",
    "W_sparse_CBF = itemKNNCBF.W_sparse"
   ]
  },
  {
   "cell_type": "code",
   "execution_count": 8,
   "metadata": {},
   "outputs": [],
   "source": [
    "W_sparse_CF_sorted = np.sort(W_sparse_CF.data.copy())\n",
    "W_sparse_CBF_sorted = np.sort(W_sparse_CBF.data.copy())"
   ]
  },
  {
   "cell_type": "code",
   "execution_count": 9,
   "metadata": {},
   "outputs": [
    {
     "name": "stderr",
     "output_type": "stream",
     "text": [
      "/Users/08volt/opt/anaconda3/lib/python3.7/site-packages/IPython/core/pylabtools.py:132: UserWarning: Creating legend with loc=\"best\" can be slow with large amounts of data.\n",
      "  fig.canvas.print_figure(bytes_io, **kw)\n"
     ]
    },
    {
     "data": {
      "image/png": "[encoded data removed]",
      "text/plain": [
       "<Figure size 432x288 with 1 Axes>"
      ]
     },
     "metadata": {
      "needs_background": "light"
     },
     "output_type": "display_data"
    }
   ],
   "source": [
    "import matplotlib.pyplot as pyplot\n",
    "\n",
    "\n",
    "pyplot.plot(W_sparse_CF_sorted, label = 'CF')\n",
    "pyplot.plot(W_sparse_CBF_sorted, label = 'CBF')\n",
    "pyplot.ylabel('Similarity cell ')\n",
    "pyplot.xlabel('Similarity value')\n",
    "pyplot.legend()\n",
    "pyplot.show()"
   ]
  },
  {
   "cell_type": "code",
   "execution_count": 10,
   "metadata": {},
   "outputs": [],
   "source": [
    "# Get common structure\n",
    "W_sparse_CF_structure = W_sparse_CF.copy()\n",
    "W_sparse_CF_structure.data = np.ones_like(W_sparse_CF_structure.data)\n",
    "\n",
    "W_sparse_CBF_structure = W_sparse_CBF.copy()\n",
    "W_sparse_CBF_structure.data = np.ones_like(W_sparse_CBF_structure.data)\n",
    "\n",
    "W_sparse_common = W_sparse_CF_structure.multiply(W_sparse_CBF_structure)\n",
    "\n",
    "# Get values of both in common structure of CF\n",
    "W_sparse_delta = W_sparse_CBF.copy().multiply(W_sparse_common)\n",
    "W_sparse_delta -= W_sparse_CF.copy().multiply(W_sparse_common)"
   ]
  },
  {
   "cell_type": "code",
   "execution_count": 11,
   "metadata": {},
   "outputs": [],
   "source": [
    "W_sparse_delta_sorted = np.sort(W_sparse_delta.data.copy())"
   ]
  },
  {
   "cell_type": "code",
   "execution_count": 12,
   "metadata": {},
   "outputs": [
    {
     "data": {
      "image/png": "[encoded data removed]",
      "text/plain": [
       "<Figure size 432x288 with 1 Axes>"
      ]
     },
     "metadata": {
      "needs_background": "light"
     },
     "output_type": "display_data"
    }
   ],
   "source": [
    "pyplot.plot(W_sparse_delta_sorted, label = 'delta')\n",
    "pyplot.ylabel('Similarity cell ')\n",
    "pyplot.xlabel('Similarity value')\n",
    "pyplot.legend()\n",
    "pyplot.show()"
   ]
  },
  {
   "cell_type": "code",
   "execution_count": 13,
   "metadata": {},
   "outputs": [
    {
     "name": "stdout",
     "output_type": "stream",
     "text": [
      "W_sparse_CF has 1.73E+06 values and 4.88 % in common with CBF\n",
      "W_sparse_CBF has 2.58E+06 values and 3.27 % in common with CF\n",
      "W_sparse_delta has 8.46E+04 values\n"
     ]
    }
   ],
   "source": [
    "# How many values we have in common?\n",
    "\n",
    "print(\"W_sparse_CF has {:.2E} values and {:.2f} % in common with CBF\".format(W_sparse_CF.nnz, W_sparse_common.nnz/W_sparse_CF.nnz*100))\n",
    "print(\"W_sparse_CBF has {:.2E} values and {:.2f} % in common with CF\".format(W_sparse_CBF.nnz, W_sparse_common.nnz/W_sparse_CBF.nnz*100))\n",
    "\n",
    "print(\"W_sparse_delta has {:.2E} values\".format(W_sparse_delta.nnz))\n"
   ]
  },
  {
   "cell_type": "code",
   "execution_count": 14,
   "metadata": {},
   "outputs": [],
   "source": [
    "from load_tables import load_clustered_ICM_csr\n",
    "\n",
    "ICM_clustered = load_clustered_ICM_csr()"
   ]
  },
  {
   "cell_type": "code",
   "execution_count": 15,
   "metadata": {},
   "outputs": [
    {
     "name": "stdout",
     "output_type": "stream",
     "text": [
      "ItemKNNCBFRecommender: URM Detected 21 (0.26 %) cold users.\n",
      "ItemKNNCBFRecommender: URM Detected 1640 (6.31 %) cold items.\n",
      "Unable to load Cython Compute_Similarity, reverting to Python\n",
      "Similarity column 25975 ( 100 % ), 945.08 column/sec, elapsed time 0.46 min\n"
     ]
    }
   ],
   "source": [
    "itemKNNCBF = ItemKNNCBFRecommender(URM_train, ICM_clustered)\n",
    "itemKNNCBF.fit(**best_params_ItemKNNCBF)\n",
    "W_sparse_CBF = itemKNNCBF.W_sparse\n",
    "W_sparse_CBF_sorted = np.sort(W_sparse_CBF.data.copy())"
   ]
  },
  {
   "cell_type": "code",
   "execution_count": 16,
   "metadata": {},
   "outputs": [
    {
     "name": "stderr",
     "output_type": "stream",
     "text": [
      "/Users/08volt/opt/anaconda3/lib/python3.7/site-packages/IPython/core/pylabtools.py:132: UserWarning: Creating legend with loc=\"best\" can be slow with large amounts of data.\n",
      "  fig.canvas.print_figure(bytes_io, **kw)\n"
     ]
    },
    {
     "data": {
      "image/png": "[encoded data removed]",
      "text/plain": [
       "<Figure size 432x288 with 1 Axes>"
      ]
     },
     "metadata": {
      "needs_background": "light"
     },
     "output_type": "display_data"
    }
   ],
   "source": [
    "pyplot.plot(W_sparse_CF_sorted, label = 'CF')\n",
    "pyplot.plot(W_sparse_CBF_sorted, label = 'CBF')\n",
    "pyplot.ylabel('Similarity cell ')\n",
    "pyplot.xlabel('Similarity value')\n",
    "pyplot.legend()\n",
    "pyplot.show()"
   ]
  },
  {
   "cell_type": "code",
   "execution_count": 17,
   "metadata": {},
   "outputs": [],
   "source": [
    "# Get common structure\n",
    "W_sparse_CF_structure = W_sparse_CF.copy()\n",
    "W_sparse_CF_structure.data = np.ones_like(W_sparse_CF_structure.data)\n",
    "\n",
    "W_sparse_CBF_structure = W_sparse_CBF.copy()\n",
    "W_sparse_CBF_structure.data = np.ones_like(W_sparse_CBF_structure.data)\n",
    "\n",
    "W_sparse_common = W_sparse_CF_structure.multiply(W_sparse_CBF_structure)\n",
    "\n",
    "# Get values of both in common structure of CF\n",
    "W_sparse_delta = W_sparse_CBF.copy().multiply(W_sparse_common)\n",
    "W_sparse_delta -= W_sparse_CF.copy().multiply(W_sparse_common)\n",
    "W_sparse_delta_sorted = np.sort(W_sparse_delta.data.copy())"
   ]
  },
  {
   "cell_type": "code",
   "execution_count": 18,
   "metadata": {},
   "outputs": [
    {
     "data": {
      "image/png": "[encoded data removed]",
      "text/plain": [
       "<Figure size 432x288 with 1 Axes>"
      ]
     },
     "metadata": {
      "needs_background": "light"
     },
     "output_type": "display_data"
    }
   ],
   "source": [
    "pyplot.plot(W_sparse_delta_sorted, label = 'delta')\n",
    "pyplot.ylabel('Similarity cell ')\n",
    "pyplot.xlabel('Similarity value')\n",
    "pyplot.legend()\n",
    "pyplot.show()"
   ]
  },
  {
   "cell_type": "code",
   "execution_count": 19,
   "metadata": {},
   "outputs": [],
   "source": [
    "W_sparse_delta = W_sparse_delta.tocoo()\n"
   ]
  },
  {
   "cell_type": "code",
   "execution_count": 20,
   "metadata": {},
   "outputs": [],
   "source": [
    "from FeatureWeighting.CFW_D_Similarity_Linalg import CFW_D_Similarity_Linalg"
   ]
  },
  {
   "cell_type": "code",
   "execution_count": 21,
   "metadata": {},
   "outputs": [
    {
     "name": "stdout",
     "output_type": "stream",
     "text": [
      "CFW_D_Similarity_Linalg: URM Detected 21 (0.26 %) cold users.\n",
      "CFW_D_Similarity_Linalg: URM Detected 1640 (6.31 %) cold items.\n",
      "CFW_D_Similarity_Linalg: Generating train data\n",
      "Unable to load Cython Compute_Similarity, reverting to Python\n",
      "Similarity column 25975 ( 100 % ), 1190.59 column/sec, elapsed time 0.36 min\n",
      "CFW_D_Similarity_Linalg: Collaborative S density: 2.57E-03, nonzero cells 1732670\n",
      "CFW_D_Similarity_Linalg: Content S density: 1.15E-02, nonzero cells 7738126\n",
      "CFW_D_Similarity_Linalg: Generating train data. Sample 3499 ( 0.05 %) \n",
      "CFW_D_Similarity_Linalg: Content S structure has 27301 out of 7738126 ( 0.35%) nonzero collaborative cells\n",
      "CFW_D_Similarity_Linalg: Nonzero collaborative cell sum is: 1.24E+04, average is: 4.55E-01, average over all collaborative data is 4.23E-01\n",
      "Unable to load Cython Compute_Similarity, reverting to Python\n",
      "Similarity column 25975 ( 100 % ), 982.70 column/sec, elapsed time 0.44 min\n"
     ]
    }
   ],
   "source": [
    "CFW_weithing = CFW_D_Similarity_Linalg(URM_train, ICM_clustered, W_sparse_CF)\n",
    "CFW_weithing.fit()"
   ]
  },
  {
   "cell_type": "code",
   "execution_count": 22,
   "metadata": {},
   "outputs": [],
   "source": [
    "from Base.Evaluation.Evaluator import EvaluatorHoldout\n",
    "\n",
    "evaluator_validation = EvaluatorHoldout(URM_validation, cutoff_list=[5])"
   ]
  },
  {
   "cell_type": "code",
   "execution_count": 23,
   "metadata": {},
   "outputs": [
    {
     "name": "stdout",
     "output_type": "stream",
     "text": [
      "EvaluatorHoldout: Processed 4052 ( 100.00% ) in 3.08 sec. Users per second: 1317\n"
     ]
    }
   ],
   "source": [
    "results_dict, _ = evaluator_validation.evaluateRecommender(itemKNNCF)\n"
   ]
  },
  {
   "cell_type": "code",
   "execution_count": 24,
   "metadata": {},
   "outputs": [
    {
     "data": {
      "text/plain": [
       "{5: {'ROC_AUC': 0.06007321487331359,\n",
       "  'PRECISION': 0.02087857847976322,\n",
       "  'PRECISION_RECALL_MIN_DEN': 0.05359904573872981,\n",
       "  'RECALL': 0.050986576349334164,\n",
       "  'MAP': 0.03289959690687726,\n",
       "  'MRR': 0.055552813425468875,\n",
       "  'NDCG': 0.04155974493519222,\n",
       "  'F1': 0.029625685445347362,\n",
       "  'HIT_RATE': 0.1043928923988154,\n",
       "  'ARHR': 0.05869118130964127,\n",
       "  'NOVELTY': 0.0029608554310341087,\n",
       "  'AVERAGE_POPULARITY': 0.023488332989814245,\n",
       "  'DIVERSITY_MEAN_INTER_LIST': 0.998682957153158,\n",
       "  'DIVERSITY_HERFINDAHL': 0.9996872980961226,\n",
       "  'COVERAGE_ITEM': 0.3511453320500481,\n",
       "  'COVERAGE_ITEM_CORRECT': 0.013782483156881617,\n",
       "  'COVERAGE_USER': 0.5098779413615201,\n",
       "  'COVERAGE_USER_CORRECT': 0.04794261985654964,\n",
       "  'DIVERSITY_GINI': 0.2050068694285651,\n",
       "  'SHANNON_ENTROPY': 12.586676275651179}}"
      ]
     },
     "execution_count": 24,
     "metadata": {},
     "output_type": "execute_result"
    }
   ],
   "source": [
    "results_dict"
   ]
  },
  {
   "cell_type": "markdown",
   "metadata": {},
   "source": [
    "# DA QUA IN POI BISOGNA FARE LE PREVISIONI SUL TEST\n"
   ]
  },
  {
   "cell_type": "code",
   "execution_count": null,
   "metadata": {},
   "outputs": [],
   "source": [
    "import time\n",
    "URM_file = open(r\"../datasets/data_target_users_test.csv\", 'r')\n",
    "\n",
    "URM_file.seek(0)\n",
    "URM_tuples = []\n",
    "URM_file.readline()#questa è importante di cristo c'è riga di introduzione\n",
    "for line in URM_file:\n",
    "    URM_tuples.append(line.replace(\"\\n\",\"\"))\n",
    "\n",
    "usersToPred = np.array(URM_tuples)\n",
    "print(data)\n",
    "\n",
    "start_time = time.time()#BUONE METRICHE PER IL TEMPO QUI\n",
    "import csv\n",
    "\n",
    "with open('outputProva.csv', mode='w',newline='') as recFile:\n",
    "    \n",
    "    recFile = csv.writer(recFile, delimiter=',', quotechar='\"', quoting=csv.QUOTE_MINIMAL)\n",
    "    recFile.writerow(['user_id', 'item_list'])\n",
    "    for user_id in usersToPred:\n",
    "        rec=recommender.recommend(int(user_id), at=10)\n",
    "        rec=' '.join(map(str, rec))\n",
    "        #print(\"raccomandazioni per utente \"+str(user_id)+\" \"+rec)\n",
    "        recFile.writerow([user_id, rec])\n",
    "    \n",
    "end_time = time.time()\n",
    "print(\"Ha finito in questo tempo: \"+str(end_time-start_time)+\" secondi\")\n",
    "\n"
   ]
  }
 ],
 "metadata": {
  "anaconda-cloud": {},
  "kernelspec": {
   "display_name": "Python 3",
   "language": "python",
   "name": "python3"
  },
  "language_info": {
   "codemirror_mode": {
    "name": "ipython",
    "version": 3
   },
   "file_extension": ".py",
   "mimetype": "text/x-python",
   "name": "python",
   "nbconvert_exporter": "python",
   "pygments_lexer": "ipython3",
   "version": "3.7.6"
  }
 },
 "nbformat": 4,
 "nbformat_minor": 1
}
