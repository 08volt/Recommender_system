{
 "cells": [
  {
   "cell_type": "code",
   "execution_count": 1,
   "metadata": {},
   "outputs": [],
   "source": [
    "import sys\n",
    "sys.path.insert(0, '../Lab/')\n",
    "sys.path.insert(0, '../New_Hybrids/')\n",
    "from KNN.ItemKNNCBFRecommender import ItemKNNCBFRecommender\n",
    "from KNN.ItemKNNCFRecommender import ItemKNNCFRecommender\n",
    "from KNN.UserKNNCFRecommender import UserKNNCFRecommender\n",
    "from UserIcmKNNCFRecommender import UserIcmKNNCFRecommender\n",
    "from ItemIcmKNNCFRecommender import ItemIcmKNNCFRecommender\n",
    "from WeightedHybridV2 import WeightedHybridScoreRecommender\n",
    "from optimize_weights import optimize_weights\n",
    "from SLIM_BPR.Cython.SLIM_BPR_Cython import SLIM_BPR_Cython\n",
    "from GraphBased.P3alphaRecommender import P3alphaRecommender\n",
    "from GraphBased.RP3betaRecommender import RP3betaRecommender\n",
    "from MatrixFactorization.IALSRecommender import IALSRecommender\n",
    "from Base.Evaluation.Evaluator import EvaluatorHoldout\n",
    "from Data_manager.split_functions.split_train_validation_random_holdout import split_train_in_two_percentage_global_sample\n",
    "import matplotlib\n",
    "import matplotlib.pyplot as plt\n",
    "from Base.Similarity.Compute_Similarity_Python import Compute_Similarity_Python\n",
    "\n",
    "%matplotlib inline \n",
    "\n",
    "import numpy as np\n",
    "sys.path.insert(0, '../datasets/')\n",
    "from load_tables import load_ICM_csr, load_URM_csr, load_clustered_ICM_csr\n",
    "def plotta(t,maps):\n",
    "    fig, ax = plt.subplots()\n",
    "    ax.plot(t, maps)\n",
    "\n",
    "    ax.set(xlabel='T', ylabel='MAP')\n",
    "    ax.grid()\n",
    "    plt.show()"
   ]
  },
  {
   "cell_type": "code",
   "execution_count": 2,
   "metadata": {},
   "outputs": [],
   "source": [
    "\n",
    "from ParameterTuning.SearchBayesianSkoptCross import SearchBayesianSkoptCross\n",
    "from ParameterTuning.SearchAbstractClassCross import SearchInputRecommenderArgs\n",
    "from skopt.space import Real, Integer, Categorical"
   ]
  },
  {
   "cell_type": "code",
   "execution_count": 3,
   "metadata": {},
   "outputs": [],
   "source": [
    "#ICM_all = load_ICM_csr()\n",
    "#ICM_cl = load_clustered_ICM_csr()\n",
    "URM_all = load_URM_csr()"
   ]
  },
  {
   "cell_type": "code",
   "execution_count": 4,
   "metadata": {},
   "outputs": [],
   "source": [
    "\n",
    "#URM_train, URM_test = split_train_in_two_percentage_global_sample(URM_all, train_percentage = 0.9)\n",
    "#URM_train, URM_validation = split_train_in_two_percentage_global_sample(URM_train, train_percentage = 0.8)\n",
    "\n",
    "#evaluator_validation = EvaluatorHoldout(URM_validation, cutoff_list=[10])\n",
    "#evaluator_test = EvaluatorHoldout(URM_test, cutoff_list=[ 10])"
   ]
  },
  {
   "cell_type": "code",
   "execution_count": 5,
   "metadata": {},
   "outputs": [],
   "source": [
    "from ParameterTuning.SearchAbstractClass import SearchInputRecommenderArgs\n",
    "\n",
    "\n",
    "def hyperparameter_optimization_CFW_D(URM_train, ICM_train, W_sparse_CF):\n",
    "\n",
    "    recommender_class = UserKNNCFRecommender\n",
    "\n",
    "    parameterSearch = SearchBayesianSkoptCross(recommender_class,\n",
    "                                               n_validations = 2,\n",
    "                                     evaluator_validation=None,\n",
    "                                     evaluator_test=None)\n",
    "\n",
    "\n",
    "    hyperparameters_range_dictionary = {}\n",
    "    hyperparameters_range_dictionary[\"topK\"] = Integer(5, 1000)\n",
    "    hyperparameters_range_dictionary[\"shrink\"] = Integer(0, 100)\n",
    "\n",
    "    #hyperparameters_range_dictionary[\"add_zeros_quota\"] = Real(low = 0, high = 1, prior = 'uniform')\n",
    "    #hyperparameters_range_dictionary[\"normalize_similarity\"] = Categorical([True, False])\n",
    "\n",
    "\n",
    "    recommender_input_args = SearchInputRecommenderArgs(\n",
    "        CONSTRUCTOR_POSITIONAL_ARGS = [URM_train],\n",
    "        CONSTRUCTOR_KEYWORD_ARGS = {},\n",
    "        FIT_POSITIONAL_ARGS = [],\n",
    "        FIT_KEYWORD_ARGS = {}\n",
    "    )\n",
    "\n",
    "\n",
    "    output_folder_path = \"result_experiments/\"\n",
    "\n",
    "    import os\n",
    "\n",
    "    # If directory does not exist, create\n",
    "    if not os.path.exists(output_folder_path):\n",
    "        os.makedirs(output_folder_path)\n",
    "\n",
    "    n_cases = 100\n",
    "    metric_to_optimize = \"MAP\"\n",
    "\n",
    "\n",
    "    # Clone data structure to perform the fitting with the best hyperparameters on train + validation data\n",
    "    recommender_input_args_last_test = recommender_input_args.copy()\n",
    "    recommender_input_args_last_test.CONSTRUCTOR_POSITIONAL_ARGS[0] = URM_train\n",
    "\n",
    "\n",
    "    parameterSearch.search(recommender_input_args,\n",
    "                           recommender_input_args_last_test = recommender_input_args_last_test,\n",
    "                           parameter_search_space = hyperparameters_range_dictionary,\n",
    "                           n_cases = n_cases,\n",
    "                           n_random_starts = int(n_cases/3),\n",
    "                           save_model = \"no\",\n",
    "                           output_folder_path = output_folder_path,\n",
    "                           output_file_name_root = recommender_class.RECOMMENDER_NAME,\n",
    "                           metric_to_optimize = metric_to_optimize\n",
    "                          )"
   ]
  },
  {
   "cell_type": "code",
   "execution_count": null,
   "metadata": {},
   "outputs": [
    {
     "name": "stdout",
     "output_type": "stream",
     "text": [
      "Iteration No: 1 started. Evaluating function at random point.\n",
      "Warning: 53 (0.67 %) of 7947 users have no train items\n",
      "Warning: 2322 (29.22 %) of 7947 users have no sampled items\n",
      "Warning: 60 (0.76 %) of 7947 users have no train items\n",
      "Warning: 2352 (29.60 %) of 7947 users have no sampled items\n",
      "UserKNNCFRecommender: URM Detected 53 (0.67 %) cold users.\n",
      "UserKNNCFRecommender: URM Detected 2356 (9.07 %) cold items.\n",
      "SearchBayesianSkoptCross: Testing config: {'topK': 790, 'shrink': 22}\n",
      "Similarity column 7947 ( 100 % ), 2254.97 column/sec, elapsed time 0.06 min\n",
      "EvaluatorHoldout: Processed 5625 ( 100.00% ) in 11.93 sec. Users per second: 471\n",
      "UserKNNCFRecommender: URM Detected 60 (0.76 %) cold users.\n",
      "UserKNNCFRecommender: URM Detected 2302 (8.86 %) cold items.\n",
      "SearchBayesianSkoptCross: Testing config: {'topK': 790, 'shrink': 22}\n",
      "Similarity column 7947 ( 100 % ), 5523.89 column/sec, elapsed time 0.02 min\n",
      "EvaluatorHoldout: Processed 5595 ( 100.00% ) in 9.54 sec. Users per second: 587\n",
      "UserKNNCFRecommender: URM Detected 60 (0.76 %) cold users.\n",
      "UserKNNCFRecommender: URM Detected 2302 (8.86 %) cold items.\n",
      "SearchBayesianSkoptCross: Testing config: {'topK': 790, 'shrink': 22}\n",
      "Similarity column 7947 ( 100 % ), 5460.16 column/sec, elapsed time 0.02 min\n",
      "SearchBayesianSkoptCross: New best config found. Config 0: {'topK': 790, 'shrink': 22} - results: FKN RESULT 0.0523754354184683\n",
      "\n",
      "Iteration No: 1 ended. Evaluation done at random point.\n",
      "Time taken: 30.6220\n",
      "Function value obtained: 0.0524\n",
      "Current minimum: 0.0524\n",
      "Iteration No: 2 started. Evaluating function at random point.\n",
      "UserKNNCFRecommender: URM Detected 53 (0.67 %) cold users.\n",
      "UserKNNCFRecommender: URM Detected 2356 (9.07 %) cold items.\n",
      "SearchBayesianSkoptCross: Testing config: {'topK': 907, 'shrink': 13}\n",
      "Similarity column 7947 ( 100 % ), 5492.66 column/sec, elapsed time 0.02 min\n",
      "EvaluatorHoldout: Processed 5625 ( 100.00% ) in 9.20 sec. Users per second: 611\n",
      "UserKNNCFRecommender: URM Detected 60 (0.76 %) cold users.\n",
      "UserKNNCFRecommender: URM Detected 2302 (8.86 %) cold items.\n",
      "SearchBayesianSkoptCross: Testing config: {'topK': 907, 'shrink': 13}\n",
      "Similarity column 7947 ( 100 % ), 5772.42 column/sec, elapsed time 0.02 min\n",
      "EvaluatorHoldout: Processed 5595 ( 100.00% ) in 11.66 sec. Users per second: 480\n",
      "UserKNNCFRecommender: URM Detected 60 (0.76 %) cold users.\n",
      "UserKNNCFRecommender: URM Detected 2302 (8.86 %) cold items.\n",
      "SearchBayesianSkoptCross: Testing config: {'topK': 907, 'shrink': 13}\n",
      "Similarity column 7947 ( 100 % ), 4859.08 column/sec, elapsed time 0.03 min\n",
      "SearchBayesianSkoptCross: New best config found. Config 1: {'topK': 907, 'shrink': 13} - results: FKN RESULT 0.05270327619097144\n",
      "\n",
      "Iteration No: 2 ended. Evaluation done at random point.\n",
      "Time taken: 25.9027\n",
      "Function value obtained: 0.0527\n",
      "Current minimum: 0.0524\n",
      "Iteration No: 3 started. Evaluating function at random point.\n",
      "UserKNNCFRecommender: URM Detected 53 (0.67 %) cold users.\n",
      "UserKNNCFRecommender: URM Detected 2356 (9.07 %) cold items.\n",
      "SearchBayesianSkoptCross: Testing config: {'topK': 180, 'shrink': 64}\n",
      "Similarity column 7947 ( 100 % ), 6561.44 column/sec, elapsed time 0.02 min\n"
     ]
    }
   ],
   "source": [
    "hyperparameter_optimization_CFW_D(URM_all, None, None)"
   ]
  },
  {
   "cell_type": "code",
   "execution_count": null,
   "metadata": {},
   "outputs": [],
   "source": [
    "#Config 14: {'topK': 52, 'add_zeros_quota': 0.8588004964327149, 'normalize_similarity': False} itemknn"
   ]
  },
  {
   "cell_type": "code",
   "execution_count": null,
   "metadata": {},
   "outputs": [],
   "source": []
  }
 ],
 "metadata": {
  "kernelspec": {
   "display_name": "Python 3",
   "language": "python",
   "name": "python3"
  },
  "language_info": {
   "codemirror_mode": {
    "name": "ipython",
    "version": 3
   },
   "file_extension": ".py",
   "mimetype": "text/x-python",
   "name": "python",
   "nbconvert_exporter": "python",
   "pygments_lexer": "ipython3",
   "version": "3.7.6"
  }
 },
 "nbformat": 4,
 "nbformat_minor": 4
}
