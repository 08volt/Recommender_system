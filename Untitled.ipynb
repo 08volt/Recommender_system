{
 "cells": [
  {
   "cell_type": "code",
   "execution_count": 1,
   "metadata": {},
   "outputs": [],
   "source": [
    "import numpy as np\n",
    "import math\n",
    "MAPS = [0.4,0.5,0.6,0.9,0.6,0.5]\n",
    "trials = [0.1,0.02,0.44,0.55,0.66,1]\n",
    "l = 1\n",
    "best_t = trials[np.argmax(MAPS)]\n",
    "best_MAP = np.max(MAPS)"
   ]
  },
  {
   "cell_type": "code",
   "execution_count": 2,
   "metadata": {},
   "outputs": [
    {
     "data": {
      "text/plain": [
       "0.9"
      ]
     },
     "execution_count": 2,
     "metadata": {},
     "output_type": "execute_result"
    }
   ],
   "source": [
    "best_MAP"
   ]
  },
  {
   "cell_type": "code",
   "execution_count": 3,
   "metadata": {},
   "outputs": [
    {
     "data": {
      "text/plain": [
       "0.55"
      ]
     },
     "execution_count": 3,
     "metadata": {},
     "output_type": "execute_result"
    }
   ],
   "source": [
    "best_t"
   ]
  },
  {
   "cell_type": "code",
   "execution_count": 6,
   "metadata": {},
   "outputs": [
    {
     "data": {
      "text/plain": [
       "[0.275,\n",
       " 0.44000000000000006,\n",
       " 0.4675,\n",
       " 0.49500000000000005,\n",
       " 0.506,\n",
       " 0.5225000000000001,\n",
       " 0.539,\n",
       " 0.5445000000000001,\n",
       " 0.54725,\n",
       " 0.5489,\n",
       " 0.55,\n",
       " 0.561,\n",
       " 0.5775,\n",
       " 0.6050000000000001,\n",
       " 0.66,\n",
       " 0.8250000000000001,\n",
       " 0.9900000000000001]"
      ]
     },
     "execution_count": 6,
     "metadata": {},
     "output_type": "execute_result"
    }
   ],
   "source": [
    "diff_min = math.pow(10,-l-1)* best_t\n",
    "diff_magg = math.pow(10,-l)*best_t\n",
    "new_trials = [best_t - diff_magg*5, \n",
    "          best_t - diff_magg*2, \n",
    "          best_t - diff_magg*1.5, \n",
    "          best_t - diff_magg*1,\n",
    "          best_t - diff_min*8, \n",
    "          best_t - diff_min*5, \n",
    "          best_t - diff_min*2,\n",
    "          best_t - diff_min*1,\n",
    "          best_t - diff_min*0.5,\n",
    "          best_t - diff_min*0.2,\n",
    "          best_t, \n",
    "          best_t + diff_magg*0.2, \n",
    "          best_t + diff_magg*0.5, \n",
    "          best_t + diff_magg*1, \n",
    "          best_t + diff_magg*2, \n",
    "          best_t + diff_magg*5, \n",
    "          best_t + diff_magg*8]\n",
    "new_trials"
   ]
  },
  {
   "cell_type": "code",
   "execution_count": 7,
   "metadata": {},
   "outputs": [
    {
     "data": {
      "text/plain": [
       "[0.44000000000000006,\n",
       " 0.4675,\n",
       " 0.49500000000000005,\n",
       " 0.506,\n",
       " 0.5225000000000001,\n",
       " 0.539,\n",
       " 0.5445000000000001,\n",
       " 0.54725,\n",
       " 0.5489,\n",
       " 0.55,\n",
       " 0.561,\n",
       " 0.5775,\n",
       " 0.6050000000000001,\n",
       " 0.66]"
      ]
     },
     "execution_count": 7,
     "metadata": {},
     "output_type": "execute_result"
    }
   ],
   "source": [
    "left = 0\n",
    "right = len(new_trials)\n",
    "for i in range(len(new_trials)):\n",
    "    if np.argmax(MAPS) > 0 and new_trials[i] < trials[np.argmax(MAPS) - 1]:\n",
    "        left = i + 1\n",
    "    if np.argmax(MAPS) < len(trials) - 1 and new_trials[i] > trials[np.argmax(MAPS) + 1]:\n",
    "        right = i\n",
    "        break\n",
    "trials = new_trials[left: right]\n",
    "trials"
   ]
  },
  {
   "cell_type": "code",
   "execution_count": 4,
   "metadata": {},
   "outputs": [
    {
     "data": {
      "text/plain": [
       "array([0.44 , 0.462, 0.484, 0.506, 0.528, 0.55 , 0.572, 0.594, 0.616,\n",
       "       0.638])"
      ]
     },
     "execution_count": 4,
     "metadata": {},
     "output_type": "execute_result"
    }
   ],
   "source": [
    "    \n",
    "left = 0.00000001 if np.argmax(MAPS) == 0 else trials[np.argmax(MAPS) - 1]\n",
    "right = 500.0 if np.argmax(MAPS) == len(MAPS)-1 else trials[np.argmax(MAPS) + 1]\n",
    "left_arr = np.linspace(left, best_t, num=5, endpoint=False)\n",
    "right_arr = np.linspace(best_t, right, num=5, endpoint=False)\n",
    "np.concatenate((left_arr,right_arr))"
   ]
  },
  {
   "cell_type": "code",
   "execution_count": null,
   "metadata": {},
   "outputs": [],
   "source": []
  }
 ],
 "metadata": {
  "kernelspec": {
   "display_name": "Python 3",
   "language": "python",
   "name": "python3"
  },
  "language_info": {
   "codemirror_mode": {
    "name": "ipython",
    "version": 3
   },
   "file_extension": ".py",
   "mimetype": "text/x-python",
   "name": "python",
   "nbconvert_exporter": "python",
   "pygments_lexer": "ipython3",
   "version": "3.7.6"
  }
 },
 "nbformat": 4,
 "nbformat_minor": 4
}
