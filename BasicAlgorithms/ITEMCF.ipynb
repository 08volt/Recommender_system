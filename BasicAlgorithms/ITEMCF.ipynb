{
 "cells": [
  {
   "cell_type": "code",
   "execution_count": 1,
   "metadata": {},
   "outputs": [
    {
     "name": "stdout",
     "output_type": "stream",
     "text": [
      "Num Utenti: 7947\n",
      "Num Items: 24896\n",
      "Num Ratings: 113268\n",
      "(7947, 25975)\n"
     ]
    }
   ],
   "source": [
    "from urllib.request import urlretrieve\n",
    "import os\n",
    "import numpy as np\n",
    "import matplotlib.pyplot as pyplot\n",
    "%matplotlib inline  \n",
    "\n",
    "URM_file = open(r\"C:\\Users\\aless\\PYTHON_NOTEBOOKS\\RECOMMENDER_CHALLENGE\\data_train.csv\", 'r')\n",
    "\n",
    "def rowSplit (rowString):\n",
    "    \n",
    "    split = rowString.split(\",\")\n",
    "    split[2] = split[2].replace(\"\\n\",\"\")\n",
    "    \n",
    "    split[0] = int(split[0])#userID = row o forse row+1?? Dipende da come pensiamo id\n",
    "    split[1] = int(split[1])#itemId =column\n",
    "    split[2] = int(float(split[2]))#rating IMPLICIT\n",
    "    result = tuple(split)\n",
    "    \n",
    "    return result\n",
    "\n",
    "\n",
    "\n",
    "URM_file.seek(0)\n",
    "URM_tuples = []\n",
    "URM_file.readline()#questa è importante di cristo c'è riga di introduzione\n",
    "for line in URM_file:\n",
    "    URM_tuples.append(rowSplit (line))\n",
    "\n",
    "\n",
    "#ora devo costruire saggiamente la matrice\n",
    "\n",
    "\n",
    "data = np.array(URM_tuples)\n",
    "#print(\"Numero di rating:\"+str(data.shape[0]))\n",
    "#crea URM\n",
    "result = np.zeros((data[:,0].max()+1, data[:,1].max()+1), dtype=int)\n",
    "result[data[:,0], data[:,1]] = data[:,2] \n",
    "\n",
    "userList=set(data[:,0])#significa tutte le righe considerando solo la colonna 1\n",
    "itemList=set(data[:,1])\n",
    "ratingList=data.shape[0]\n",
    "\n",
    "print(\"Num Utenti: \"+str(len(userList)))\n",
    "print(\"Num Items: \"+str(len(itemList)))\n",
    "print(\"Num Ratings: \"+str(ratingList)) #sarà righe-1 di itnestazione\n",
    "print(result.shape)#forma della matrice \n",
    "\n",
    "\n",
    "import scipy.sparse as sps\n",
    "\n",
    "URM_all = sps.coo_matrix(result)\n",
    "URM_all = URM_all.tocsr()"
   ]
  },
  {
   "cell_type": "code",
   "execution_count": 2,
   "metadata": {},
   "outputs": [
    {
     "name": "stdout",
     "output_type": "stream",
     "text": [
      "Similarity column 25975 ( 100 % ), 2665.35 column/sec, elapsed time 0.16 min\n",
      "La velocità con cui lavoro è:\n",
      " 257.30 usr/sec\n"
     ]
    }
   ],
   "source": [
    "\n",
    "from Notebooks_utils.data_splitter import train_test_holdout\n",
    "from Notebooks_utils.evaluation_function import evaluate_algorithm\n",
    "from Base.Similarity.Compute_Similarity_Python import Compute_Similarity_Python\n",
    "\n",
    "URM_train, URM_test = train_test_holdout(URM_all, train_perc = 0.8)#sono traine test locali,aka train e valiation\n",
    "#-----------------------------------------------------------------------\n",
    "#-------------------------STUFF-----------------------------------------\n",
    "#-----------------------------------------------------------------------\n",
    "class ItemCFKNNRecommender(object):\n",
    "    \n",
    "    def __init__(self, URM):\n",
    "        self.URM = URM\n",
    "        \n",
    "            \n",
    "    def fit(self, topK=50, shrink=100, normalize=True, similarity=\"cosine\"):\n",
    "        \n",
    "        similarity_object = Compute_Similarity_Python(self.URM, shrink=shrink, \n",
    "                                                  topK=topK, normalize=normalize, \n",
    "                                                  similarity = similarity)\n",
    "        \n",
    "        self.W_sparse = similarity_object.compute_similarity()\n",
    "\n",
    "        \n",
    "    def recommend(self, user_id, at=None, exclude_seen=True):\n",
    "        # compute the scores using the dot product\n",
    "        user_profile = self.URM[user_id]\n",
    "        scores = user_profile.dot(self.W_sparse).toarray().ravel()\n",
    "\n",
    "        if exclude_seen:\n",
    "            scores = self.filter_seen(user_id, scores)\n",
    "\n",
    "        # rank items\n",
    "        ranking = scores.argsort()[::-1]\n",
    "            \n",
    "        return ranking[:at]\n",
    "    \n",
    "    \n",
    "    def filter_seen(self, user_id, scores):\n",
    "\n",
    "        start_pos = self.URM.indptr[user_id]\n",
    "        end_pos = self.URM.indptr[user_id+1]\n",
    "\n",
    "        user_profile = self.URM.indices[start_pos:end_pos]\n",
    "        \n",
    "        scores[user_profile] = -np.inf\n",
    "\n",
    "        return scores\n",
    "#----------------------------------------------------------------    \n",
    "    \n",
    "recommender = ItemCFKNNRecommender(URM_train)\n",
    "recommender.fit(shrink=0.0, topK=50)\n",
    "\n",
    "\n",
    "print(\"La velocità con cui lavoro è:\")\n",
    "\n",
    "import time\n",
    "\n",
    "n_users_to_test = len(set(userList))#setto numero di users x cui faccio reccomendation\n",
    "\n",
    "start_time = time.time()\n",
    "\n",
    "for user_id in range(n_users_to_test):\n",
    "    recommender.recommend(user_id, at=5)#at è numero items che raccomando!\n",
    "    \n",
    "end_time = time.time()\n",
    "\n",
    "print(\" {:.2f} usr/sec\".format(n_users_to_test/(end_time-start_time)))\n",
    "\n"
   ]
  },
  {
   "cell_type": "markdown",
   "metadata": {},
   "source": [
    "## Parameters tuning"
   ]
  },
  {
   "cell_type": "code",
   "execution_count": 3,
   "metadata": {},
   "outputs": [
    {
     "name": "stdout",
     "output_type": "stream",
     "text": [
      "PARAMETER TUNING\n",
      "Similarity column 25975 ( 100 % ), 2947.92 column/sec, elapsed time 0.15 min\n",
      "Evaluated user 0 of 7947\n",
      "Recommender performance is: Precision = 0.0372, Recall = 0.0633, MAP = 0.0433\n"
     ]
    },
    {
     "data": {
      "image/png": "[encoded data removed]",
      "text/plain": [
       "<Figure size 432x288 with 1 Axes>"
      ]
     },
     "metadata": {
      "needs_background": "light"
     },
     "output_type": "display_data"
    }
   ],
   "source": [
    "print(\"PARAMETER TUNING\")\n",
    "#x_tick = [5,10,15,50,100,500] #10 best\n",
    "x_tick = [10] #10 best\n",
    "MAP_per_k = []\n",
    "\n",
    "for topK in x_tick:\n",
    "    \n",
    "    recommender = ItemCFKNNRecommender(URM_train)\n",
    "    recommender.fit(shrink=100, topK=topK)#shrink a 100 negli shrink è il best off\n",
    "    \n",
    "    result_dict = evaluate_algorithm(URM_test, recommender)\n",
    "    MAP_per_k.append(result_dict[\"MAP\"])\n",
    "    \n",
    "pyplot.plot(x_tick, MAP_per_k)\n",
    "pyplot.ylabel('MAP')\n",
    "pyplot.xlabel('TopK')\n",
    "pyplot.title(\"Se ho un solo K ovviamente non avrò il grafico\")\n",
    "pyplot.show()\n"
   ]
  },
  {
   "cell_type": "code",
   "execution_count": 4,
   "metadata": {},
   "outputs": [
    {
     "name": "stdout",
     "output_type": "stream",
     "text": [
      "Similarity column 25975 ( 100 % ), 3045.73 column/sec, elapsed time 0.14 min\n",
      "Evaluated user 0 of 7947\n",
      "Recommender performance is: Precision = 0.0368, Recall = 0.0633, MAP = 0.0431\n"
     ]
    },
    {
     "data": {
      "image/png": "[encoded data removed]",
      "text/plain": [
       "<Figure size 432x288 with 1 Axes>"
      ]
     },
     "metadata": {
      "needs_background": "light"
     },
     "output_type": "display_data"
    }
   ],
   "source": [
    "#x_tick = [100, 200, 500,1000,2000] #ha un botto effetto pare, 200 è il top\n",
    "x_tick = [200]\n",
    "MAP_per_shrinkage = []\n",
    "\n",
    "for shrink in x_tick:\n",
    "    \n",
    "    recommender =  ItemCFKNNRecommender(URM_train)\n",
    "    recommender.fit(shrink=shrink, topK=10)\n",
    "    \n",
    "    result_dict = evaluate_algorithm(URM_test, recommender)\n",
    "    MAP_per_shrinkage.append(result_dict[\"MAP\"])\n",
    "    \n",
    "pyplot.plot(x_tick, MAP_per_shrinkage)\n",
    "pyplot.ylabel('MAP')\n",
    "pyplot.xlabel('SHrink term')\n",
    "pyplot.show()   "
   ]
  },
  {
   "cell_type": "code",
   "execution_count": null,
   "metadata": {},
   "outputs": [],
   "source": []
  }
 ],
 "metadata": {
  "kernelspec": {
   "display_name": "Python 3",
   "language": "python",
   "name": "python3"
  },
  "language_info": {
   "codemirror_mode": {
    "name": "ipython",
    "version": 3
   },
   "file_extension": ".py",
   "mimetype": "text/x-python",
   "name": "python",
   "nbconvert_exporter": "python",
   "pygments_lexer": "ipython3",
   "version": "3.8.3"
  }
 },
 "nbformat": 4,
 "nbformat_minor": 4
}
