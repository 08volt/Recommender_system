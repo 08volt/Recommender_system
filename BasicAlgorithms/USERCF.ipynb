{
 "cells": [
  {
   "cell_type": "code",
   "execution_count": 1,
   "metadata": {},
   "outputs": [
    {
     "name": "stdout",
     "output_type": "stream",
     "text": [
      "Num Utenti: 7947\n",
      "Num Items: 24896\n",
      "Num Ratings: 113268\n",
      "(7947, 25975)\n"
     ]
    }
   ],
   "source": [
    "from urllib.request import urlretrieve\n",
    "import os\n",
    "import numpy as np\n",
    "import matplotlib.pyplot as pyplot\n",
    "%matplotlib inline  \n",
    "\n",
    "URM_file = open(r\"C:\\Users\\aless\\PYTHON_NOTEBOOKS\\RECOMMENDER_CHALLENGE\\data_train.csv\", 'r')\n",
    "\n",
    "def rowSplit (rowString):\n",
    "    \n",
    "    split = rowString.split(\",\")\n",
    "    split[2] = split[2].replace(\"\\n\",\"\")\n",
    "    \n",
    "    split[0] = int(split[0])#userID = row o forse row+1?? Dipende da come pensiamo id\n",
    "    split[1] = int(split[1])#itemId =column\n",
    "    split[2] = int(float(split[2]))#rating IMPLICIT\n",
    "    result = tuple(split)\n",
    "    \n",
    "    return result\n",
    "\n",
    "\n",
    "\n",
    "URM_file.seek(0)\n",
    "URM_tuples = []\n",
    "URM_file.readline()#questa è importante di cristo c'è riga di introduzione\n",
    "for line in URM_file:\n",
    "    URM_tuples.append(rowSplit (line))\n",
    "\n",
    "\n",
    "#ora devo costruire saggiamente la matrice\n",
    "\n",
    "\n",
    "data = np.array(URM_tuples)\n",
    "#print(\"Numero di rating:\"+str(data.shape[0]))\n",
    "#crea URM\n",
    "result = np.zeros((data[:,0].max()+1, data[:,1].max()+1), dtype=int)\n",
    "result[data[:,0], data[:,1]] = data[:,2] \n",
    "\n",
    "userList=set(data[:,0])#significa tutte le righe considerando solo la colonna 1\n",
    "itemList=set(data[:,1])\n",
    "ratingList=data.shape[0]\n",
    "\n",
    "print(\"Num Utenti: \"+str(len(userList)))\n",
    "print(\"Num Items: \"+str(len(itemList)))\n",
    "print(\"Num Ratings: \"+str(ratingList)) #sarà righe-1 di itnestazione\n",
    "print(result.shape)#forma della matrice \n",
    "\n",
    "\n",
    "import scipy.sparse as sps\n",
    "\n",
    "URM_all = sps.coo_matrix(result)\n",
    "URM_all = URM_all.tocsr()"
   ]
  },
  {
   "cell_type": "code",
   "execution_count": 4,
   "metadata": {},
   "outputs": [],
   "source": [
    "from Notebooks_utils.data_splitter import train_test_holdout\n",
    "from Notebooks_utils.evaluation_function import evaluate_algorithm\n",
    "from Base.Similarity.Compute_Similarity_Python import Compute_Similarity_Python\n",
    "\n",
    "\n",
    "URM_train, URM_test = train_test_holdout(URM_all, train_perc = 0.8)#sono traine test locali,aka train e valiation\n",
    "#-----------------------------------------------------------------------\n",
    "#-------------------------STUFF-----------------------------------------\n",
    "#-----------------------------------------------------------------------\n",
    "from Base.Evaluation.Evaluator import EvaluatorHoldout\n",
    "evaluator_test = EvaluatorHoldout(URM_test, cutoff_list=[10])#perchè ne voglio solo 10 suppongo\n",
    "\n",
    "class UserKNNCFRecommender(object):\n",
    "    \n",
    "    def __init__(self, URM):\n",
    "        self.URM = URM\n",
    "        \n",
    "            \n",
    "    def fit(self, topK=50, shrink=100, normalize=True, similarity=\"cosine\"):\n",
    "        \n",
    "        similarity_object = Compute_Similarity_Python(self.URM.T, shrink=shrink, \n",
    "                                                  topK=topK, normalize=normalize, \n",
    "                                                  similarity = similarity)\n",
    "        \n",
    "        self.W_sparse = similarity_object.compute_similarity()\n",
    "\n",
    "        \n",
    "    def recommend(self, user_id, at=None, exclude_seen=True):\n",
    "        # compute the scores using the dot product\n",
    "        \n",
    "        scores = self.W_sparse[user_id, :].dot(self.URM).toarray().ravel()\n",
    "\n",
    "        if exclude_seen:\n",
    "            scores = self.filter_seen(user_id, scores)\n",
    "\n",
    "        # rank items\n",
    "        ranking = scores.argsort()[::-1]\n",
    "            \n",
    "        return ranking[:at]\n",
    "    \n",
    "    \n",
    "    def filter_seen(self, user_id, scores):\n",
    "\n",
    "        start_pos = self.URM.indptr[user_id]\n",
    "        end_pos = self.URM.indptr[user_id+1]\n",
    "\n",
    "        user_profile = self.URM.indices[start_pos:end_pos]\n",
    "        \n",
    "        scores[user_profile] = -np.inf\n",
    "\n",
    "        return scores"
   ]
  },
  {
   "cell_type": "markdown",
   "metadata": {},
   "source": [
    "## Prameter tuning\n"
   ]
  },
  {
   "cell_type": "code",
   "execution_count": 8,
   "metadata": {},
   "outputs": [
    {
     "name": "stdout",
     "output_type": "stream",
     "text": [
      "UserKNNCFRecommender: URM Detected 73 (0.92 %) cold users.\n",
      "UserKNNCFRecommender: URM Detected 2374 (9.14 %) cold items.\n",
      "Unable to load Cython Compute_Similarity, reverting to Python\n",
      "Similarity column 7947 ( 100 % ), 3460.34 column/sec, elapsed time 0.04 min\n",
      "EvaluatorHoldout: Processed 5640 ( 100.00% ) in 3.08 sec. Users per second: 1833\n",
      "Numero di Neighbours= 10 MAP= 0.039452734674444996\n",
      "\n",
      "UserKNNCFRecommender: URM Detected 73 (0.92 %) cold users.\n",
      "UserKNNCFRecommender: URM Detected 2374 (9.14 %) cold items.\n",
      "Unable to load Cython Compute_Similarity, reverting to Python\n",
      "Similarity column 7947 ( 100 % ), 3392.18 column/sec, elapsed time 0.04 min\n",
      "EvaluatorHoldout: Processed 5640 ( 100.00% ) in 3.30 sec. Users per second: 1710\n",
      "Numero di Neighbours= 50 MAP= 0.053610165702411686\n",
      "\n",
      "UserKNNCFRecommender: URM Detected 73 (0.92 %) cold users.\n",
      "UserKNNCFRecommender: URM Detected 2374 (9.14 %) cold items.\n",
      "Unable to load Cython Compute_Similarity, reverting to Python\n",
      "Similarity column 7947 ( 100 % ), 3123.09 column/sec, elapsed time 0.04 min\n",
      "EvaluatorHoldout: Processed 5640 ( 100.00% ) in 3.28 sec. Users per second: 1721\n",
      "Numero di Neighbours= 100 MAP= 0.05642181527851481\n",
      "\n",
      "UserKNNCFRecommender: URM Detected 73 (0.92 %) cold users.\n",
      "UserKNNCFRecommender: URM Detected 2374 (9.14 %) cold items.\n",
      "Unable to load Cython Compute_Similarity, reverting to Python\n",
      "Similarity column 7947 ( 100 % ), 3080.46 column/sec, elapsed time 0.04 min\n",
      "EvaluatorHoldout: Processed 5640 ( 100.00% ) in 3.48 sec. Users per second: 1620\n",
      "Numero di Neighbours= 200 MAP= 0.056126326129676975\n",
      "\n",
      "UserKNNCFRecommender: URM Detected 73 (0.92 %) cold users.\n",
      "UserKNNCFRecommender: URM Detected 2374 (9.14 %) cold items.\n",
      "Unable to load Cython Compute_Similarity, reverting to Python\n",
      "Similarity column 7947 ( 100 % ), 2665.04 column/sec, elapsed time 0.05 min\n",
      "EvaluatorHoldout: Processed 5640 ( 100.00% ) in 4.08 sec. Users per second: 1382\n",
      "Numero di Neighbours= 500 MAP= 0.05375688966484935\n",
      "\n"
     ]
    },
    {
     "data": {
      "image/png": "[encoded data removed]",
      "text/plain": [
       "<Figure size 432x288 with 1 Axes>"
      ]
     },
     "metadata": {
      "needs_background": "light"
     },
     "output_type": "display_data"
    }
   ],
   "source": [
    "from KNN.UserKNNCFRecommender import UserKNNCFRecommender\n",
    "\n",
    "x_tick = [10, 50, 100, 200, 500]#100 è il top\n",
    "#x_tick = [100]#100 è il top\n",
    "MAP_per_k = []\n",
    "\n",
    "for topK in x_tick:\n",
    "    \n",
    "    recommender = UserKNNCFRecommender(URM_train)\n",
    "    recommender.fit(shrink=0.0, topK=topK)\n",
    "    \n",
    "    result_dict, _ = evaluator_test.evaluateRecommender(recommender)\n",
    "    \n",
    "    MAP_per_k.append(result_dict[10][\"MAP\"])\n",
    "    print(\"Numero di Neighbours= \"+str(topK)+\" MAP= \"+str(result_dict[10][\"MAP\"])+\"\\n\")\n",
    "    \n",
    "pyplot.plot(x_tick, MAP_per_k)\n",
    "pyplot.ylabel('MAP')\n",
    "pyplot.xlabel('TopK')\n",
    "pyplot.show()"
   ]
  },
  {
   "cell_type": "code",
   "execution_count": null,
   "metadata": {},
   "outputs": [
    {
     "name": "stdout",
     "output_type": "stream",
     "text": [
      "UserKNNCFRecommender: URM Detected 73 (0.92 %) cold users.\n",
      "UserKNNCFRecommender: URM Detected 2374 (9.14 %) cold items.\n",
      "Unable to load Cython Compute_Similarity, reverting to Python\n",
      "Similarity column 7947 ( 100 % ), 3270.32 column/sec, elapsed time 0.04 min\n",
      "EvaluatorHoldout: Processed 5640 ( 100.00% ) in 3.41 sec. Users per second: 1653\n",
      "Shrink term= 0 MAP= 0.05642181527851481\n",
      "\n",
      "UserKNNCFRecommender: URM Detected 73 (0.92 %) cold users.\n",
      "UserKNNCFRecommender: URM Detected 2374 (9.14 %) cold items.\n",
      "Unable to load Cython Compute_Similarity, reverting to Python\n",
      "Similarity column 7947 ( 100 % ), 3154.26 column/sec, elapsed time 0.04 min\n",
      "EvaluatorHoldout: Processed 5640 ( 100.00% ) in 3.66 sec. Users per second: 1539\n",
      "Shrink term= 1 MAP= 0.05628519161801839\n",
      "\n",
      "UserKNNCFRecommender: URM Detected 73 (0.92 %) cold users.\n",
      "UserKNNCFRecommender: URM Detected 2374 (9.14 %) cold items.\n",
      "Unable to load Cython Compute_Similarity, reverting to Python\n",
      "Similarity column 7947 ( 100 % ), 3087.01 column/sec, elapsed time 0.04 min\n",
      "EvaluatorHoldout: Processed 5640 ( 100.00% ) in 3.42 sec. Users per second: 1649\n",
      "Shrink term= 2 MAP= 0.05621296899374403\n",
      "\n",
      "UserKNNCFRecommender: URM Detected 73 (0.92 %) cold users.\n",
      "UserKNNCFRecommender: URM Detected 2374 (9.14 %) cold items.\n",
      "Unable to load Cython Compute_Similarity, reverting to Python\n"
     ]
    }
   ],
   "source": [
    "x_tick = [0,1,2,3,4,5,6,10]#1 e 3 top\n",
    "#x_tick = [3]\n",
    "MAP_per_shrinkage = []\n",
    "\n",
    "for shrink in x_tick:\n",
    "    \n",
    "    recommender = UserKNNCFRecommender(URM_train)\n",
    "    recommender.fit(shrink=shrink, topK=100)\n",
    "    \n",
    "    result_dict, _ = evaluator_test.evaluateRecommender(recommender)\n",
    "    \n",
    "    MAP_per_shrinkage.append(result_dict[10][\"MAP\"])\n",
    "    print(\"Shrink term= \"+str(shrink)+\" MAP= \"+str(result_dict[10][\"MAP\"])+\"\\n\")\n",
    "    \n",
    "pyplot.plot(x_tick, MAP_per_shrinkage)\n",
    "pyplot.ylabel('MAP')\n",
    "pyplot.xlabel('Shrinkage')\n",
    "pyplot.show()"
   ]
  },
  {
   "cell_type": "code",
   "execution_count": null,
   "metadata": {},
   "outputs": [],
   "source": []
  }
 ],
 "metadata": {
  "kernelspec": {
   "display_name": "Python 3",
   "language": "python",
   "name": "python3"
  },
  "language_info": {
   "codemirror_mode": {
    "name": "ipython",
    "version": 3
   },
   "file_extension": ".py",
   "mimetype": "text/x-python",
   "name": "python",
   "nbconvert_exporter": "python",
   "pygments_lexer": "ipython3",
   "version": "3.8.3"
  }
 },
 "nbformat": 4,
 "nbformat_minor": 4
}
