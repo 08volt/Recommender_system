{
 "cells": [
  {
   "cell_type": "code",
   "execution_count": 1,
   "metadata": {},
   "outputs": [
    {
     "name": "stdout",
     "output_type": "stream",
     "text": [
      "Num Utenti: 7947\n",
      "Num Items: 24896\n",
      "Num Ratings: 113268\n",
      "(7947, 25975)\n"
     ]
    }
   ],
   "source": [
    "from urllib.request import urlretrieve\n",
    "import os\n",
    "import numpy as np\n",
    "import matplotlib.pyplot as pyplot\n",
    "%matplotlib inline  \n",
    "\n",
    "URM_file = open(r\"C:\\Users\\aless\\PYTHON_NOTEBOOKS\\RECOMMENDER_CHALLENGE\\data_train.csv\", 'r')\n",
    "\n",
    "def rowSplit (rowString):\n",
    "    \n",
    "    split = rowString.split(\",\")\n",
    "    split[2] = split[2].replace(\"\\n\",\"\")\n",
    "    \n",
    "    split[0] = int(split[0])#userID = row o forse row+1?? Dipende da come pensiamo id\n",
    "    split[1] = int(split[1])#itemId =column\n",
    "    split[2] = int(float(split[2]))#rating IMPLICIT\n",
    "    result = tuple(split)\n",
    "    \n",
    "    return result\n",
    "\n",
    "\n",
    "\n",
    "URM_file.seek(0)\n",
    "URM_tuples = []\n",
    "URM_file.readline()#questa è importante di cristo c'è riga di introduzione\n",
    "for line in URM_file:\n",
    "    URM_tuples.append(rowSplit (line))\n",
    "\n",
    "\n",
    "#ora devo costruire saggiamente la matrice\n",
    "\n",
    "\n",
    "data = np.array(URM_tuples)\n",
    "#print(\"Numero di rating:\"+str(data.shape[0]))\n",
    "#crea URM\n",
    "result = np.zeros((data[:,0].max()+1, data[:,1].max()+1), dtype=int)\n",
    "result[data[:,0], data[:,1]] = data[:,2] \n",
    "\n",
    "userList=set(data[:,0])#significa tutte le righe considerando solo la colonna 1\n",
    "itemList=set(data[:,1])\n",
    "ratingList=data.shape[0]\n",
    "\n",
    "print(\"Num Utenti: \"+str(len(userList)))\n",
    "print(\"Num Items: \"+str(len(itemList)))\n",
    "print(\"Num Ratings: \"+str(ratingList)) #sarà righe-1 di itnestazione\n",
    "print(result.shape)#forma della matrice \n",
    "\n",
    "\n",
    "import scipy.sparse as sps\n",
    "\n",
    "URM_all = sps.coo_matrix(result)\n",
    "URM_all = URM_all.tocsr()\n",
    "\n",
    "\n",
    "from Notebooks_utils.data_splitter import train_test_holdout\n",
    "\n",
    "\n",
    "URM_train, URM_test = train_test_holdout(URM_all, train_perc = 0.8)"
   ]
  },
  {
   "cell_type": "code",
   "execution_count": null,
   "metadata": {},
   "outputs": [],
   "source": []
  }
 ],
 "metadata": {
  "kernelspec": {
   "display_name": "Python 3",
   "language": "python",
   "name": "python3"
  },
  "language_info": {
   "codemirror_mode": {
    "name": "ipython",
    "version": 3
   },
   "file_extension": ".py",
   "mimetype": "text/x-python",
   "name": "python",
   "nbconvert_exporter": "python",
   "pygments_lexer": "ipython3",
   "version": "3.8.3"
  }
 },
 "nbformat": 4,
 "nbformat_minor": 4
}
