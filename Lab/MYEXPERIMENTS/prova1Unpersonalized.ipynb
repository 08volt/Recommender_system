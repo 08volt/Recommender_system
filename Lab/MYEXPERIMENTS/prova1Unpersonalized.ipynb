{
 "cells": [
  {
   "cell_type": "code",
   "execution_count": 1,
   "metadata": {},
   "outputs": [
    {
     "name": "stdout",
     "output_type": "stream",
     "text": [
      "Num utenti:  610\n",
      "Num filmz:  9724\n",
      "Num voti:  100836\n"
     ]
    }
   ],
   "source": [
    "import os\n",
    "import scipy.sparse as sps\n",
    "import numpy as np\n",
    "\n",
    "\n",
    "def rowSplit (rowString):\n",
    "    \n",
    "    split = rowString.split(\",\")#occhio che .csv splitta con virgola prof con ::\n",
    "    split[3] = split[3].replace(\"\\n\",\"\")\n",
    "    \n",
    "    split[0] = int(split[0])#userID\n",
    "    split[1] = int(split[1])#filmID\n",
    "    split[2] = float(split[2])#rating\n",
    "    split[3] = int(split[3])#timestamp\n",
    "    \n",
    "    result = tuple(split)\n",
    "    return result\n",
    "\n",
    "URM_file = open(r\"C:\\Users\\aless\\PYTHON_NOTEBOOKS\\RECOMMENDER_SYSTEMS\\movies100krates\\ratings.csv\", 'r')\n",
    "URM_file.seek(0)\n",
    "URM_tuples = []\n",
    "numberInteractions=0\n",
    "#ho 100836 voti di  610 utenti su 9724 diversi filmz\n",
    "URM_file.readline()\n",
    "\n",
    "#for _ in 10:   #rende esecuzione + easy se necessario con solo 10 ratings\n",
    "#   URM_file.readline()   \n",
    "#   numberInteractions+=1\n",
    "for line in URM_file:\n",
    "    URM_tuples.append(rowSplit (line))\n",
    "    numberInteractions+=1\n",
    "#print(len(URM_tuples))\n",
    "userList, itemList, ratingList, timestampList = zip(*URM_tuples)\n",
    "userList = list(userList)\n",
    "itemList = list(itemList)\n",
    "ratingList = list(ratingList)\n",
    "timestampList = list(timestampList)\n",
    "print(\"Num utenti: \",len(set(userList)))\n",
    "print(\"Num filmz: \",len(set(itemList)))\n",
    "print(\"Num voti: \",len(ratingList))\n"
   ]
  },
  {
   "cell_type": "code",
   "execution_count": 2,
   "metadata": {},
   "outputs": [
    {
     "name": "stdout",
     "output_type": "stream",
     "text": [
      "Statistiche generiche: \n",
      "Number of interactions:  100836\n",
      "N users:  610\n",
      "Number of items\t 9724, Number of users\t 610\n",
      "Max ID items\t 193609, Max Id users\t 610\n",
      "\n",
      "Average interactions per user 165.30\n",
      "Average interactions per item 10.37\n",
      "\n",
      "Sparsity 98.30 %\n"
     ]
    }
   ],
   "source": [
    "print(\"Statistiche generiche: \")\n",
    "userList_unique = list(set(userList))\n",
    "itemList_unique = list(set(itemList))\n",
    "numUsers = len(userList_unique)\n",
    "numItems = len(itemList_unique)\n",
    "\n",
    "print(\"Number of interactions: \",numberInteractions)#<--compelxity min usare questo\n",
    "print(\"N users: \",numUsers)\n",
    "print (\"Number of items\\t {}, Number of users\\t {}\".format(numItems, numUsers))\n",
    "print (\"Max ID items\\t {}, Max Id users\\t {}\\n\".format(max(itemList_unique), max(userList_unique)))\n",
    "print (\"Average interactions per user {:.2f}\".format(numberInteractions/numUsers))\n",
    "print (\"Average interactions per item {:.2f}\\n\".format(numberInteractions/numItems))\n",
    "print (\"Sparsity {:.2f} %\".format((1-float(numberInteractions)/(numItems*numUsers))*100))\n",
    "\n",
    "    "
   ]
  },
  {
   "cell_type": "code",
   "execution_count": 3,
   "metadata": {},
   "outputs": [
    {
     "name": "stdout",
     "output_type": "stream",
     "text": [
      "Popolarità totale, NB tanti saranno a 0\n"
     ]
    },
    {
     "data": {
      "text/plain": [
       "array([  0, 215, 110, ...,   0,   0,   1], dtype=int32)"
      ]
     },
     "execution_count": 3,
     "metadata": {},
     "output_type": "execute_result"
    }
   ],
   "source": [
    "#crea la COO matrix\n",
    "URM_all = sps.coo_matrix((ratingList, (userList, itemList)))#costruttore(elementi,(x,y))\n",
    "URM_all.tocsr()\n",
    "#print(URM_all)\n",
    "#print(\"matrice formato coo, con solo elem !=0 e loro coord: \")\n",
    "#print(URM_all)\n",
    "\n",
    "#print(\"matrice formato normale, detta 'densa' \")\n",
    "#print(URM_all.todense())\n",
    "\n",
    "itemPopularity = (URM_all>0).sum(axis=0) #per ogni item somma tutti i voti (se val >0)(axis=0 means: per ogni colonna fai la somma)\n",
    "itemPopularity=np.array(itemPopularity).squeeze()#così lo rende davvero un array sennò è una matrice monodimensionale\n",
    "print(\"Popolarità totale, NB tanti saranno a 0\")\n",
    "itemPopularity\n"
   ]
  },
  {
   "cell_type": "code",
   "execution_count": 4,
   "metadata": {},
   "outputs": [
    {
     "name": "stdout",
     "output_type": "stream",
     "text": [
      "Number of items w/o ratings:(SONO UN BOTTO)\n",
      "193610\n",
      "183886\n"
     ]
    }
   ],
   "source": [
    "print(\"Number of items w/o ratings:(SONO UN BOTTO)\")\n",
    "print(len(itemPopularity))#la dimensione è data dall'item id. film sono 193610 di cui 7k votati\n",
    "print(np.count_nonzero(itemPopularity==0))#conta gli zero\n"
   ]
  },
  {
   "cell_type": "code",
   "execution_count": 5,
   "metadata": {},
   "outputs": [
    {
     "name": "stdout",
     "output_type": "stream",
     "text": [
      "Definisco split train/test e creo mia ooMatrix train\n"
     ]
    },
    {
     "data": {
      "text/plain": [
       "<611x193580 sparse matrix of type '<class 'numpy.float64'>'\n",
       "\twith 20130 stored elements in Compressed Sparse Row format>"
      ]
     },
     "execution_count": 5,
     "metadata": {},
     "output_type": "execute_result"
    }
   ],
   "source": [
    "print(\"Definisco split train/test e creo mia ooMatrix train\")\n",
    "\n",
    "train_test_split = 0.80 #fa maschera 80% train 20 test\n",
    "numInteractions = URM_all.nnz\n",
    "train_mask = np.random.choice([True,False], numInteractions, p=[train_test_split, 1-train_test_split])\n",
    "test_mask = np.logical_not(train_mask)\n",
    "#train_mask\n",
    "\n",
    "userList = np.array(userList)\n",
    "itemList = np.array(itemList)\n",
    "ratingList = np.array(ratingList)\n",
    "\n",
    "URM_train = sps.coo_matrix((ratingList[train_mask], (userList[train_mask], itemList[train_mask])))\n",
    "URM_train = URM_train.tocsr()\n",
    "URM_train\n",
    "\n",
    "URM_test = sps.coo_matrix((ratingList[test_mask], (userList[test_mask], itemList[test_mask])))\n",
    "URM_test = URM_test.tocsr()\n",
    "URM_test"
   ]
  },
  {
   "cell_type": "code",
   "execution_count": 6,
   "metadata": {},
   "outputs": [],
   "source": [
    "#EVALUATION METRICS\n",
    "\n",
    "def recall(recommended_items, relevant_items):\n",
    "    is_relevant = np.in1d(recommended_items, relevant_items, assume_unique=True)\n",
    "    recall_score = np.sum(is_relevant, dtype=np.float32) / relevant_items.shape[0]\n",
    "    return recall_score\n",
    "\n",
    "\n",
    "def MAP(recommended_items, relevant_items):\n",
    "    is_relevant = np.in1d(recommended_items, relevant_items, assume_unique=True)\n",
    "    # Cumulative sum: precision at 1, at 2, at 3 ...\n",
    "    p_at_k = is_relevant * np.cumsum(is_relevant, dtype=np.float32) / (1 + np.arange(is_relevant.shape[0]))\n",
    "    map_score = np.sum(p_at_k) / np.min([relevant_items.shape[0], is_relevant.shape[0]])\n",
    "    return map_score\n",
    "\n",
    "def precision(recommended_items, relevant_items):\n",
    "    is_relevant = np.in1d(recommended_items, relevant_items, assume_unique=True)\n",
    "    precision_score = np.sum(is_relevant, dtype=np.float32) / len(is_relevant)\n",
    "    return precision_score\n",
    "    "
   ]
  },
  {
   "cell_type": "code",
   "execution_count": 7,
   "metadata": {},
   "outputs": [],
   "source": [
    "#DEFINISCO RECOMMENDATOR e lo runno nel prox coso , top item recommender\n",
    "\n",
    "class UnpRecommender(object):\n",
    "    #applicato 1 volta a tutto il train test per \"prendere in input\" i train values\n",
    "    def fit(self, URM_train):\n",
    "        itemPopularity = (URM_train>0).sum(axis=0)\n",
    "        itemPopularity = np.array(itemPopularity).squeeze()\n",
    "\n",
    "        # Ordina elem in base alla popolarità\n",
    "        self.popularItems = np.argsort(itemPopularity)\n",
    "        self.popularItems = np.flip(self.popularItems, axis = 0)\n",
    "    \n",
    "    #applicato per ogni utente (equiv di predict nella regression)\n",
    "    def recommend(self, user_id, at=5):#raccomanda gli at + popolari in tutto train set\n",
    "    \n",
    "        recommended_items = self.popularItems[0:at]\n",
    "\n",
    "        return recommended_items\n",
    "\n",
    "    "
   ]
  },
  {
   "cell_type": "code",
   "execution_count": 8,
   "metadata": {},
   "outputs": [
    {
     "data": {
      "text/plain": [
       "array([ 356,  296,  318, 2571,  593], dtype=int64)"
      ]
     },
     "execution_count": 8,
     "metadata": {},
     "output_type": "execute_result"
    }
   ],
   "source": [
    "recInstance = UnpRecommender()\n",
    "recInstance.fit(URM_train)#lo fa qui e siamo apposto per sempre su questo data set\n",
    "\n",
    "user_id=2\n",
    "recommended_items = recInstance.recommend(user_id, at=5)\n",
    "recommended_items#qui ho le items raccomandate dal mio recommender per l'utente user"
   ]
  },
  {
   "cell_type": "code",
   "execution_count": 9,
   "metadata": {},
   "outputs": [
    {
     "name": "stdout",
     "output_type": "stream",
     "text": [
      "Recommender performance is: Precision = 0.0954, Recall = 0.0295, MAP = 0.0582\n"
     ]
    }
   ],
   "source": [
    "def evaluate_algorithm(URM_test, recommender_object, at=5):\n",
    "    cumulative_precision = 0.0\n",
    "    cumulative_recall = 0.0\n",
    "    cumulative_MAP = 0.0\n",
    "    num_eval = 0\n",
    "    \n",
    "    for user_id in userList_unique:\n",
    "        relevant_items = URM_test[user_id].indices\n",
    "        \n",
    "        if len(relevant_items)>0:\n",
    "            recommended_items = recommender_object.recommend(user_id, at=at)\n",
    "            num_eval+=1\n",
    "\n",
    "            cumulative_precision += precision(recommended_items, relevant_items)\n",
    "            cumulative_recall += recall(recommended_items, relevant_items)\n",
    "            cumulative_MAP += MAP(recommended_items, relevant_items)\n",
    "\n",
    "    cumulative_precision /= num_eval\n",
    "    cumulative_recall /= num_eval\n",
    "    cumulative_MAP /= num_eval\n",
    "    \n",
    "    print(\"Recommender performance is: Precision = {:.4f}, Recall = {:.4f}, MAP = {:.4f}\".format(\n",
    "        cumulative_precision, cumulative_recall, cumulative_MAP)) \n",
    "    \n",
    "    \n",
    "\n",
    "evaluate_algorithm(URM_test, recInstance)\n"
   ]
  },
  {
   "cell_type": "markdown",
   "metadata": {},
   "source": [
    "Adesso faccio quello con GLOBAL EFFECTS. Cioè raccomando quelli con highest average ratings senza i bias.\n"
   ]
  },
  {
   "cell_type": "code",
   "execution_count": 10,
   "metadata": {},
   "outputs": [],
   "source": [
    "#fa global recommender solo standardizzando sull item.\n",
    "#User bias serve solo x predirre ratings quindi non lo usa\n",
    "class GlobalEffRecommender(object):\n",
    "    def fit(self, URM_train):\n",
    "        self.URM_train = URM_train\n",
    "        globalAverage = np.mean(URM_train.data)\n",
    "\n",
    "        URM_train_unbiased = URM_train.copy()\n",
    "        URM_train_unbiased.data -= globalAverage\n",
    "\n",
    "        item_mean_rating = URM_train_unbiased.mean(axis=0)\n",
    "        item_mean_rating = np.array(item_mean_rating).squeeze()\n",
    "\n",
    "        self.bestRatedItems = np.argsort(item_mean_rating)\n",
    "        self.bestRatedItems = np.flip(self.bestRatedItems, axis = 0)\n",
    "\n",
    "\n",
    "    def recommend(self, user_id, at=5, remove_seen=True):#raccomando togliendo elemnti già visti dagli utenti\n",
    "        if remove_seen:\n",
    "            unseen_items_mask = np.in1d(self.bestRatedItems, URM_train[user_id].indices,\n",
    "                                        assume_unique=True, invert = True)\n",
    "            unseen_items = self.bestRatedItems[unseen_items_mask]\n",
    "            recommended_items = unseen_items[0:at]\n",
    "\n",
    "        else:\n",
    "            recommended_items = self.bestRatedItems[0:at]\n",
    "        return recommended_items\n",
    "\n",
    "\n",
    "    "
   ]
  },
  {
   "cell_type": "code",
   "execution_count": 11,
   "metadata": {},
   "outputs": [
    {
     "name": "stdout",
     "output_type": "stream",
     "text": [
      "Recommender performance is: Precision = 0.1915, Recall = 0.0465, MAP = 0.1441\n"
     ]
    }
   ],
   "source": [
    "geRec=GlobalEffRecommender()\n",
    "geRec.fit(URM_train)\n",
    "\n",
    "evaluate_algorithm(URM_test, geRec)#è lento peso\n"
   ]
  },
  {
   "cell_type": "code",
   "execution_count": null,
   "metadata": {},
   "outputs": [],
   "source": []
  }
 ],
 "metadata": {
  "kernelspec": {
   "display_name": "Python 3",
   "language": "python",
   "name": "python3"
  },
  "language_info": {
   "codemirror_mode": {
    "name": "ipython",
    "version": 3
   },
   "file_extension": ".py",
   "mimetype": "text/x-python",
   "name": "python",
   "nbconvert_exporter": "python",
   "pygments_lexer": "ipython3",
   "version": "3.7.6"
  }
 },
 "nbformat": 4,
 "nbformat_minor": 4
}
