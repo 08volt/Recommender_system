{
 "cells": [
  {
   "cell_type": "code",
   "execution_count": 4,
   "metadata": {},
   "outputs": [
    {
     "name": "stdout",
     "output_type": "stream",
     "text": [
      "Num utenti:  610\n",
      "Num filmz:  9724\n",
      "Num voti:  100836\n"
     ]
    }
   ],
   "source": [
    "#CREO UNA MATRICE DOVE HO FILM E COME ATTRIBUTI I SUOI TAGS, raccomando in base ai tags\n",
    "\n",
    "import os\n",
    "import scipy.sparse as sps\n",
    "import numpy as np\n",
    "import scipy.sparse as sps\n",
    "\n",
    "def rowSplit (rowString):\n",
    "    \n",
    "    split = rowString.split(\",\")#occhio che .csv splitta con virgola prof con ::\n",
    "    split[3] = split[3].replace(\"\\n\",\"\")\n",
    "    \n",
    "    split[0] = int(split[0])#userID\n",
    "    split[1] = int(split[1])#filmID\n",
    "    split[2] = float(split[2])#rating\n",
    "    split[3] = int(split[3])#timestamp\n",
    "    \n",
    "    result = tuple(split)\n",
    "    return result\n",
    "\n",
    "URM_file = open(r\"C:\\Users\\aless\\PYTHON_NOTEBOOKS\\RECOMMENDER_SYSTEMS\\movies100krates\\ratings.csv\", 'r')\n",
    "URM_file.seek(0)\n",
    "URM_tuples = []\n",
    "numberInteractions=0\n",
    "#ho 100836 voti di  610 utenti su 9724 diversi filmz\n",
    "URM_file.readline()\n",
    "\n",
    "#for _ in 10:   #rende esecuzione + easy se necessario con solo 10 ratings\n",
    "#   URM_file.readline()   \n",
    "#   numberInteractions+=1\n",
    "for line in URM_file:\n",
    "    URM_tuples.append(rowSplit (line))\n",
    "    numberInteractions+=1\n",
    "#print(len(URM_tuples))\n",
    "userList, itemList, ratingList, timestampList = zip(*URM_tuples)\n",
    "userList = list(userList)\n",
    "itemList = list(itemList)\n",
    "ratingList = list(ratingList)\n",
    "timestampList = list(timestampList)\n",
    "\n",
    "\n",
    "\n",
    "URM_all = sps.coo_matrix((ratingList, (userList, itemList)))\n",
    "URM_all = URM_all.tocsr()\n",
    "\n",
    "print(\"Num utenti: \",len(set(userList)))\n",
    "print(\"Num filmz: \",len(set(itemList)))\n",
    "print(\"Num voti: \",len(ratingList))\n",
    "\n",
    "\n"
   ]
  },
  {
   "cell_type": "code",
   "execution_count": 21,
   "metadata": {},
   "outputs": [
    {
     "name": "stdout",
     "output_type": "stream",
     "text": [
      "Num utenti:  58\n",
      "Num filmz:  1572\n",
      "Num tags :  1589 Occhio che ce ne sono di uguali, in tot. sono:  3683\n"
     ]
    }
   ],
   "source": [
    "#Carico la mia ICM x=item y=attributo\n",
    "\n",
    "def rowSplit (rowString):\n",
    "    \n",
    "    split = rowString.split(\",\")#occhio che .csv splitta con virgola prof con ::\n",
    "    split[3] = split[3].replace(\"\\n\",\"\")\n",
    "    \n",
    "    split[0] = int(split[0])#userID\n",
    "    split[1] = int(split[1])#filmID\n",
    "    split[2] = str(split[2])#tag, sono i nostri attributi\n",
    "    split[3] = int(split[3])#timestamp\n",
    "    \n",
    "    result = tuple(split)\n",
    "    return result\n",
    "\n",
    "ICM_file = open(r\"C:\\Users\\aless\\PYTHON_NOTEBOOKS\\RECOMMENDER_SYSTEMS\\movies100krates\\tags.csv\", 'r')\n",
    "ICM_file.seek(0)\n",
    "ICM_tuples = []\n",
    "numberInteractions=0\n",
    "ICM_file.readline()\n",
    "for line in ICM_file:\n",
    "    ICM_tuples.append(rowSplit (line))\n",
    "    \n",
    "userList_icm, itemList_icm, tagList_icm, timestampList_icm = zip(*ICM_tuples)\n",
    "userList_icm = list(userList_icm)\n",
    "itemList_icm = list(itemList_icm)\n",
    "tagList_icm = list(tagList_icm)\n",
    "timestampList_icm = list(timestampList_icm)\n",
    "print(\"Num utenti: \",len(set(userList_icm)))#I diversi utenti film e tags\n",
    "print(\"Num filmz: \",len(set(itemList_icm)))\n",
    "print(\"Num tags : \",len(set(tagList_icm)), \"Occhio che ce ne sono di uguali, in tot. sono: \",len(tagList_icm))\n",
    "tagsBackup=deepcopy(tagList_icm)"
   ]
  },
  {
   "cell_type": "code",
   "execution_count": 25,
   "metadata": {},
   "outputs": [
    {
     "name": "stdout",
     "output_type": "stream",
     "text": [
      "Tags prima e dopo:\n",
      "['funny', 'Highly quotable', 'will ferrell', 'Boxing story', 'MMA']\n",
      "[ 936  231 1573   73  322]\n"
     ]
    },
    {
     "data": {
      "text/plain": [
       "<193610x1589 sparse matrix of type '<class 'numpy.float64'>'\n",
       "\twith 3579 stored elements in Compressed Sparse Row format>"
      ]
     },
     "execution_count": 25,
     "metadata": {},
     "output_type": "execute_result"
    }
   ],
   "source": [
    "#trasforma tags in numeri per usarli come indici\n",
    "from sklearn import preprocessing\n",
    "\n",
    "le = preprocessing.LabelEncoder()\n",
    "le.fit(tagList_icm)\n",
    "\n",
    "tagList_icm = le.transform(tagList_icm)\n",
    "print(\"Tags prima e dopo:\")\n",
    "print(tagsBackup[0:5])\n",
    "print(tagList_icm[0:5])\n",
    "\n",
    "import numpy as np\n",
    "\n",
    "n_items = URM_all.shape[1]\n",
    "n_tags = max(tagList_icm) + 1\n",
    "\n",
    "ICM_shape = (n_items, n_tags)\n",
    "\n",
    "ones = np.ones(len(tagList_icm))\n",
    "ICM_all = sps.coo_matrix((ones, (itemList_icm, tagList_icm)), shape = ICM_shape)\n",
    "ICM_all = ICM_all.tocsr()\n",
    "\n",
    "ICM_all"
   ]
  },
  {
   "cell_type": "code",
   "execution_count": 28,
   "metadata": {},
   "outputs": [
    {
     "name": "stdout",
     "output_type": "stream",
     "text": [
      "(193610,)\n",
      "(1589,)\n",
      "Vedo che quasi tutte le items hanno 0 tags, una 175 e in generale pochi film ne hanno\n"
     ]
    },
    {
     "data": {
      "image/png": "[encoded data removed]",
      "text/plain": [
       "<Figure size 432x288 with 1 Axes>"
      ]
     },
     "metadata": {
      "needs_background": "light"
     },
     "output_type": "display_data"
    },
    {
     "name": "stdout",
     "output_type": "stream",
     "text": [
      "[[0. 0. 0. ... 0. 0. 0.]\n",
      " [0. 0. 0. ... 0. 0. 0.]\n",
      " [0. 0. 0. ... 0. 0. 0.]\n",
      " ...\n",
      " [0. 0. 0. ... 0. 0. 0.]\n",
      " [0. 0. 0. ... 0. 0. 0.]\n",
      " [0. 0. 0. ... 0. 0. 0.]]\n"
     ]
    }
   ],
   "source": [
    "#vediamo come sono distribuiti item e tags\n",
    "ICM_all = sps.csr_matrix(ICM_all)\n",
    "features_per_item = np.ediff1d(ICM_all.indptr)\n",
    "ICM_all = sps.csc_matrix(ICM_all)\n",
    "items_per_feature = np.ediff1d(ICM_all.indptr)\n",
    "ICM_all = sps.csr_matrix(ICM_all)\n",
    "\n",
    "print(features_per_item.shape)\n",
    "print(items_per_feature.shape)\n",
    "\n",
    "features_per_item = np.sort(features_per_item)\n",
    "items_per_feature = np.sort(items_per_feature)\n",
    "import matplotlib.pyplot as pyplot\n",
    "%matplotlib inline  \n",
    "\n",
    "print(\"Vedo che quasi tutte le items hanno 0 tags, una 175 e in generale pochi film ne hanno\")\n",
    "pyplot.plot(features_per_item, 'ro')\n",
    "pyplot.ylabel('Num features ')\n",
    "pyplot.xlabel('Item Index')\n",
    "pyplot.show()\n",
    "# se faccio così infatti vedrò che è tipo tutto 0\n",
    "#print(ICM_all.todense())"
   ]
  },
  {
   "cell_type": "markdown",
   "metadata": {},
   "source": [
    "# Ora raccomando:\n"
   ]
  },
  {
   "cell_type": "code",
   "execution_count": 49,
   "metadata": {},
   "outputs": [],
   "source": [
    "from Notebooks_utils.data_splitter import train_test_holdout\n",
    "from Notebooks_utils.evaluation_function import evaluate_algorithm\n",
    "from Base.Similarity.Compute_Similarity_Python import Compute_Similarity_Python\n",
    "\n",
    "URM_train, URM_test = train_test_holdout(URM_all, train_perc = 0.8)\n",
    "\n",
    "class ItemCBFKNNRecommender(object):\n",
    "    \n",
    "    def __init__(self, URM, ICM):\n",
    "        self.URM = URM\n",
    "        self.ICM = ICM\n",
    "    #topK=num nearest neighbours\n",
    "    #shrinkage= num samples uso x supp similarity (support)\n",
    "    def fit(self, topK=50, shrink=100, normalize = True, similarity = \"cosine\"):\n",
    "         #calcola similarity per ogni USER (self)\n",
    "        similarity_object = Compute_Similarity_Python(self.ICM.T, shrink=shrink,\n",
    "                                                  topK=topK, normalize=normalize, \n",
    "                                                  similarity = similarity)\n",
    "        self.W_sparse = similarity_object.compute_similarity()\n",
    "    \n",
    "    def recommend(self, user_id, at=None, exclude_seen=True):\n",
    "        # compute the scores using the dot product e ritorna items con più similarity, in ordine\n",
    "        user_profile = self.URM[user_id]\n",
    "        scores = user_profile.dot(self.W_sparse).toarray().ravel()\n",
    "\n",
    "        if exclude_seen:\n",
    "            scores = self.filter_seen(user_id, scores)\n",
    "\n",
    "        # rank items\n",
    "        ranking = scores.argsort()[::-1]   \n",
    "        return ranking[:at]\n",
    "    \n",
    "    def filter_seen(self, user_id, scores):\n",
    "\n",
    "        start_pos = self.URM.indptr[user_id]\n",
    "        end_pos = self.URM.indptr[user_id+1]\n",
    "\n",
    "        user_profile = self.URM.indices[start_pos:end_pos]\n",
    "        \n",
    "        scores[user_profile] = -np.inf\n",
    "\n",
    "        return scores"
   ]
  },
  {
   "cell_type": "code",
   "execution_count": 50,
   "metadata": {},
   "outputs": [
    {
     "name": "stdout",
     "output_type": "stream",
     "text": [
      "Vedo che i tempi sono enormi!!! allora commento o non potrei fare nulla ahah\n"
     ]
    }
   ],
   "source": [
    "#fit\n",
    "#recommender = ItemCBFKNNRecommender(URM_train, ICM_all)\n",
    "#recommender.fit(shrink=0.0, topK=50)\n",
    "\n",
    "print(\"Vedo che i tempi sono enormi!!! allora commento o non potrei fare nulla ahah\")\n",
    "\n",
    "#raccomanda\n",
    "#userList_unique = list(set(userList_icm))\n",
    "#for user_id in userList_unique[0:10]\n",
    "    #print(recommender.recommend(user_id, at=5))\n",
    "\n"
   ]
  },
  {
   "cell_type": "code",
   "execution_count": 52,
   "metadata": {},
   "outputs": [
    {
     "name": "stdout",
     "output_type": "stream",
     "text": [
      "Cambia num of neighbours che è TOPK\n",
      "Similarity column 10100 (  5 % ), 335.73 column/sec, elapsed time 0.50 min\n",
      "Similarity column 20300 ( 10 % ), 336.62 column/sec, elapsed time 1.01 min\n",
      "Similarity column 30400 ( 16 % ), 335.63 column/sec, elapsed time 1.51 min\n",
      "Similarity column 40300 ( 21 % ), 333.71 column/sec, elapsed time 2.01 min\n",
      "Similarity column 50500 ( 26 % ), 334.67 column/sec, elapsed time 2.51 min\n",
      "Similarity column 60500 ( 31 % ), 334.31 column/sec, elapsed time 3.02 min\n",
      "Similarity column 69900 ( 36 % ), 330.92 column/sec, elapsed time 3.52 min\n",
      "Similarity column 79100 ( 41 % ), 327.83 column/sec, elapsed time 4.02 min\n",
      "Similarity column 89100 ( 46 % ), 328.34 column/sec, elapsed time 4.52 min\n"
     ]
    },
    {
     "ename": "KeyboardInterrupt",
     "evalue": "",
     "output_type": "error",
     "traceback": [
      "\u001b[1;31m---------------------------------------------------------------------------\u001b[0m",
      "\u001b[1;31mKeyboardInterrupt\u001b[0m                         Traceback (most recent call last)",
      "\u001b[1;32m<ipython-input-52-75f2407ddbb8>\u001b[0m in \u001b[0;36m<module>\u001b[1;34m\u001b[0m\n\u001b[0;32m      5\u001b[0m \u001b[1;33m\u001b[0m\u001b[0m\n\u001b[0;32m      6\u001b[0m     \u001b[0mrecommender\u001b[0m \u001b[1;33m=\u001b[0m \u001b[0mItemCBFKNNRecommender\u001b[0m\u001b[1;33m(\u001b[0m\u001b[0mURM_train\u001b[0m\u001b[1;33m,\u001b[0m \u001b[0mICM_all\u001b[0m\u001b[1;33m)\u001b[0m\u001b[1;33m\u001b[0m\u001b[1;33m\u001b[0m\u001b[0m\n\u001b[1;32m----> 7\u001b[1;33m     \u001b[0mrecommender\u001b[0m\u001b[1;33m.\u001b[0m\u001b[0mfit\u001b[0m\u001b[1;33m(\u001b[0m\u001b[0mshrink\u001b[0m\u001b[1;33m=\u001b[0m\u001b[1;36m0.0\u001b[0m\u001b[1;33m,\u001b[0m \u001b[0mtopK\u001b[0m\u001b[1;33m=\u001b[0m\u001b[0mtopK\u001b[0m\u001b[1;33m)\u001b[0m\u001b[1;33m\u001b[0m\u001b[1;33m\u001b[0m\u001b[0m\n\u001b[0m\u001b[0;32m      8\u001b[0m \u001b[1;33m\u001b[0m\u001b[0m\n\u001b[0;32m      9\u001b[0m     \u001b[0mresult_dict\u001b[0m \u001b[1;33m=\u001b[0m \u001b[0mevaluate_algorithm\u001b[0m\u001b[1;33m(\u001b[0m\u001b[0mURM_test\u001b[0m\u001b[1;33m,\u001b[0m \u001b[0mrecommender\u001b[0m\u001b[1;33m)\u001b[0m\u001b[1;33m\u001b[0m\u001b[1;33m\u001b[0m\u001b[0m\n",
      "\u001b[1;32m<ipython-input-49-cf730c7554a1>\u001b[0m in \u001b[0;36mfit\u001b[1;34m(self, topK, shrink, normalize, similarity)\u001b[0m\n\u001b[0;32m     16\u001b[0m                                                   \u001b[0mtopK\u001b[0m\u001b[1;33m=\u001b[0m\u001b[0mtopK\u001b[0m\u001b[1;33m,\u001b[0m \u001b[0mnormalize\u001b[0m\u001b[1;33m=\u001b[0m\u001b[0mnormalize\u001b[0m\u001b[1;33m,\u001b[0m\u001b[1;33m\u001b[0m\u001b[1;33m\u001b[0m\u001b[0m\n\u001b[0;32m     17\u001b[0m                                                   similarity = similarity)\n\u001b[1;32m---> 18\u001b[1;33m         \u001b[0mself\u001b[0m\u001b[1;33m.\u001b[0m\u001b[0mW_sparse\u001b[0m \u001b[1;33m=\u001b[0m \u001b[0msimilarity_object\u001b[0m\u001b[1;33m.\u001b[0m\u001b[0mcompute_similarity\u001b[0m\u001b[1;33m(\u001b[0m\u001b[1;33m)\u001b[0m\u001b[1;33m\u001b[0m\u001b[1;33m\u001b[0m\u001b[0m\n\u001b[0m\u001b[0;32m     19\u001b[0m \u001b[1;33m\u001b[0m\u001b[0m\n\u001b[0;32m     20\u001b[0m     \u001b[1;32mdef\u001b[0m \u001b[0mrecommend\u001b[0m\u001b[1;33m(\u001b[0m\u001b[0mself\u001b[0m\u001b[1;33m,\u001b[0m \u001b[0muser_id\u001b[0m\u001b[1;33m,\u001b[0m \u001b[0mat\u001b[0m\u001b[1;33m=\u001b[0m\u001b[1;32mNone\u001b[0m\u001b[1;33m,\u001b[0m \u001b[0mexclude_seen\u001b[0m\u001b[1;33m=\u001b[0m\u001b[1;32mTrue\u001b[0m\u001b[1;33m)\u001b[0m\u001b[1;33m:\u001b[0m\u001b[1;33m\u001b[0m\u001b[1;33m\u001b[0m\u001b[0m\n",
      "\u001b[1;32m~\\PYTHON_NOTEBOOKS\\RECOMMENDER_SYSTEMS\\MYEXPERIMENTS\\Base\\Similarity\\Compute_Similarity_Python.py\u001b[0m in \u001b[0;36mcompute_similarity\u001b[1;34m(self, start_col, end_col, block_size)\u001b[0m\n\u001b[0;32m    312\u001b[0m                         \u001b[0mdenominator\u001b[0m \u001b[1;33m=\u001b[0m \u001b[0msumOfSquared_to_alpha\u001b[0m\u001b[1;33m[\u001b[0m\u001b[0mcolumnIndex\u001b[0m\u001b[1;33m]\u001b[0m \u001b[1;33m*\u001b[0m \u001b[0msumOfSquared_to_1_minus_alpha\u001b[0m \u001b[1;33m+\u001b[0m \u001b[0mself\u001b[0m\u001b[1;33m.\u001b[0m\u001b[0mshrink\u001b[0m \u001b[1;33m+\u001b[0m \u001b[1;36m1e-6\u001b[0m\u001b[1;33m\u001b[0m\u001b[1;33m\u001b[0m\u001b[0m\n\u001b[0;32m    313\u001b[0m                     \u001b[1;32melse\u001b[0m\u001b[1;33m:\u001b[0m\u001b[1;33m\u001b[0m\u001b[1;33m\u001b[0m\u001b[0m\n\u001b[1;32m--> 314\u001b[1;33m                         \u001b[0mdenominator\u001b[0m \u001b[1;33m=\u001b[0m \u001b[0msumOfSquared\u001b[0m\u001b[1;33m[\u001b[0m\u001b[0mcolumnIndex\u001b[0m\u001b[1;33m]\u001b[0m \u001b[1;33m*\u001b[0m \u001b[0msumOfSquared\u001b[0m \u001b[1;33m+\u001b[0m \u001b[0mself\u001b[0m\u001b[1;33m.\u001b[0m\u001b[0mshrink\u001b[0m \u001b[1;33m+\u001b[0m \u001b[1;36m1e-6\u001b[0m\u001b[1;33m\u001b[0m\u001b[1;33m\u001b[0m\u001b[0m\n\u001b[0m\u001b[0;32m    315\u001b[0m \u001b[1;33m\u001b[0m\u001b[0m\n\u001b[0;32m    316\u001b[0m                     \u001b[0mthis_column_weights\u001b[0m \u001b[1;33m=\u001b[0m \u001b[0mnp\u001b[0m\u001b[1;33m.\u001b[0m\u001b[0mmultiply\u001b[0m\u001b[1;33m(\u001b[0m\u001b[0mthis_column_weights\u001b[0m\u001b[1;33m,\u001b[0m \u001b[1;36m1\u001b[0m \u001b[1;33m/\u001b[0m \u001b[0mdenominator\u001b[0m\u001b[1;33m)\u001b[0m\u001b[1;33m\u001b[0m\u001b[1;33m\u001b[0m\u001b[0m\n",
      "\u001b[1;31mKeyboardInterrupt\u001b[0m: "
     ]
    }
   ],
   "source": [
    "#occhio ai tempi abnormi!!\n",
    "x_tick = [10, 50, 100, 350]\n",
    "MAP_per_k = []\n",
    "print(\"Cambia num of neighbours che è TOPK\")\n",
    "for topK in x_tick:\n",
    "    \n",
    "    recommender = ItemCBFKNNRecommender(URM_train, ICM_all)\n",
    "    recommender.fit(shrink=0.0, topK=topK)\n",
    "    \n",
    "    result_dict = evaluate_algorithm(URM_test, recommender)\n",
    "    MAP_per_k.append(result_dict[\"MAP\"])\n",
    "    \n",
    "pyplot.plot(x_tick, MAP_per_k)\n",
    "pyplot.ylabel('MAP')\n",
    "pyplot.xlabel('TopK')\n",
    "pyplot.show()"
   ]
  },
  {
   "cell_type": "code",
   "execution_count": null,
   "metadata": {},
   "outputs": [],
   "source": []
  }
 ],
 "metadata": {
  "kernelspec": {
   "display_name": "Python 3",
   "language": "python",
   "name": "python3"
  },
  "language_info": {
   "codemirror_mode": {
    "name": "ipython",
    "version": 3
   },
   "file_extension": ".py",
   "mimetype": "text/x-python",
   "name": "python",
   "nbconvert_exporter": "python",
   "pygments_lexer": "ipython3",
   "version": "3.7.6"
  }
 },
 "nbformat": 4,
 "nbformat_minor": 4
}
