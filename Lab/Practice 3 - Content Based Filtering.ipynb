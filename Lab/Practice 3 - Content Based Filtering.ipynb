{
 "cells": [
  {
   "cell_type": "markdown",
   "metadata": {},
   "source": [
    "# Recommender Systems 2020/21\n",
    "\n",
    "### Practice 3 - Content Based recommenders\n",
    "\n",
    "\n",
    "### Load the data you saw last time:"
   ]
  },
  {
   "cell_type": "code",
   "execution_count": 1,
   "metadata": {},
   "outputs": [],
   "source": [
    "from urllib.request import urlretrieve\n",
    "import zipfile, os\n",
    "\n",
    "# If file exists, skip the download\n",
    "data_file_path = \"data/Movielens_10M/\"\n",
    "data_file_name = data_file_path + \"movielens_10m.zip\"\n",
    "\n",
    "# If directory does not exist, create\n",
    "if not os.path.exists(data_file_path):\n",
    "    os.makedirs(data_file_path)\n",
    "\n",
    "if not os.path.exists(data_file_name):\n",
    "    urlretrieve (\"http://files.grouplens.org/datasets/movielens/ml-10m.zip\", data_file_name)\n",
    "    \n",
    "dataFile = zipfile.ZipFile(data_file_name)\n",
    "URM_path = dataFile.extract(\"ml-10M100K/ratings.dat\", path=\"data/Movielens_10M\")\n",
    "URM_file = open(URM_path, 'r')\n",
    "\n",
    "\n",
    "def rowSplit (rowString):\n",
    "    \n",
    "    split = rowString.split(\"::\")\n",
    "    split[3] = split[3].replace(\"\\n\",\"\")\n",
    "    \n",
    "    split[0] = int(split[0])\n",
    "    split[1] = int(split[1])\n",
    "    split[2] = float(split[2])\n",
    "    split[3] = int(split[3])\n",
    "    \n",
    "    result = tuple(split)\n",
    "    \n",
    "    return result\n",
    "\n",
    "\n",
    "URM_file.seek(0)\n",
    "URM_tuples = []\n",
    "\n",
    "for line in URM_file:\n",
    "   URM_tuples.append(rowSplit (line))\n",
    "\n",
    "userList, itemList, ratingList, timestampList = zip(*URM_tuples)\n",
    "\n",
    "userList = list(userList)\n",
    "itemList = list(itemList)\n",
    "ratingList = list(ratingList)\n",
    "timestampList = list(timestampList)\n"
   ]
  },
  {
   "cell_type": "code",
   "execution_count": 2,
   "metadata": {},
   "outputs": [
    {
     "name": "stdout",
     "output_type": "stream",
     "text": [
      "User data, ID: min 1, max 71567, unique 69878, missig 2.36 %\n",
      "Item data, ID: min 1, max 65133, unique 10677, missig 83.61 %\n"
     ]
    }
   ],
   "source": [
    "def list_ID_stats(ID_list, label):\n",
    "    \n",
    "    min_val = min(ID_list)\n",
    "    max_val = max(ID_list)\n",
    "    unique_val = len(set(ID_list))\n",
    "    missing_val = 1 - unique_val/(max_val - min_val)\n",
    "\n",
    "    print(\"{} data, ID: min {}, max {}, unique {}, missig {:.2f} %\".format(label, min_val, max_val, unique_val, missing_val*100))\n",
    "\n",
    "    \n",
    "    \n",
    "list_ID_stats(userList, \"User\")\n",
    "list_ID_stats(itemList, \"Item\")"
   ]
  },
  {
   "cell_type": "code",
   "execution_count": 3,
   "metadata": {},
   "outputs": [],
   "source": [
    "import scipy.sparse as sps\n",
    "\n",
    "URM_all = sps.coo_matrix((ratingList, (userList, itemList)))\n",
    "URM_all = URM_all.tocsr()"
   ]
  },
  {
   "cell_type": "markdown",
   "metadata": {},
   "source": [
    "### For items in particular most have no interactions. Sometimes it may be better to remove them to avoid creating big data structures with no need. In this case empty columns will nave no impact and we leave them as is. "
   ]
  },
  {
   "cell_type": "markdown",
   "metadata": {},
   "source": [
    "## And now load the content informations in the same way:\n",
    "## In this case we are using tags"
   ]
  },
  {
   "cell_type": "code",
   "execution_count": 4,
   "metadata": {},
   "outputs": [],
   "source": [
    "ICM_path = dataFile.extract(\"ml-10M100K/tags.dat\", path = \"data/Movielens_10M\")\n",
    "ICM_file = open(ICM_path, 'r')\n",
    "\n",
    "def rowSplit (rowString):\n",
    "    split = rowString.split(\"::\")\n",
    "    split[3] = split[3].replace(\"\\n\",\"\")\n",
    "    \n",
    "    split[0] = int(split[0])\n",
    "    split[1] = int(split[1])\n",
    "    split[2] = str(split[2]) # tag is a string, not a float like the rating\n",
    "    split[3] = int(split[3])\n",
    "    \n",
    "    result = tuple(split)\n",
    "    \n",
    "    return result\n",
    "\n",
    "ICM_file.seek(0)\n",
    "ICM_tuples = []\n",
    "\n",
    "for line in ICM_file:\n",
    "    ICM_tuples.append(rowSplit(line))\n",
    "    \n",
    "userList_icm, itemList_icm, tagList_icm, timestampList_icm = zip(*ICM_tuples)\n",
    "\n",
    "userList_icm = list(userList_icm)\n",
    "itemList_icm = list(itemList_icm)\n",
    "tagList_icm = list(tagList_icm)\n",
    "timestampList_icm = list(timestampList_icm)\n"
   ]
  },
  {
   "cell_type": "code",
   "execution_count": 5,
   "metadata": {},
   "outputs": [
    {
     "name": "stdout",
     "output_type": "stream",
     "text": [
      "Users ICM data, ID: min 15, max 71556, unique 4009, missig 94.40 %\n",
      "Items ICM data, ID: min 1, max 65130, unique 7601, missig 88.33 %\n"
     ]
    }
   ],
   "source": [
    "list_ID_stats(userList_icm, \"Users ICM\")\n",
    "list_ID_stats(itemList_icm, \"Items ICM\")"
   ]
  },
  {
   "cell_type": "markdown",
   "metadata": {},
   "source": [
    "### We can see that most users and items have no data associated to them"
   ]
  },
  {
   "cell_type": "code",
   "execution_count": 6,
   "metadata": {},
   "outputs": [
    {
     "name": "stdout",
     "output_type": "stream",
     "text": [
      "Number of tags\t 16529, Number of item-tag tuples 95580\n",
      "\n",
      "Data example:\n",
      "[15, 20, 20, 20, 20, 20, 20, 20, 20, 20]\n",
      "[4973, 1747, 1747, 2424, 2424, 2424, 2947, 2947, 3033, 3033]\n",
      "['excellent!', 'politics', 'satire', 'chick flick 212', 'hanks', 'ryan', 'action', 'bond', 'spoof', 'star wars']\n"
     ]
    }
   ],
   "source": [
    "numTags = len(set(tagList_icm))\n",
    "\n",
    "print (\"Number of tags\\t {}, Number of item-tag tuples {}\".format(numTags, len(tagList_icm)))\n",
    "\n",
    "print(\"\\nData example:\")\n",
    "print(userList_icm[0:10])\n",
    "print(itemList_icm[0:10])\n",
    "print(tagList_icm[0:10])"
   ]
  },
  {
   "cell_type": "markdown",
   "metadata": {},
   "source": [
    "### The numbers of items and users in the ICM matrix is different from what we saw in the URM, why?\n",
    "\n",
    "### The tags are string, we should traslate them into numbers so we can use them as indices in the ICM"
   ]
  },
  {
   "cell_type": "code",
   "execution_count": 7,
   "metadata": {},
   "outputs": [
    {
     "name": "stdout",
     "output_type": "stream",
     "text": [
      "[ 9814 13375 14131  8515 10769 14070  7015  8071 14829 14900]\n"
     ]
    }
   ],
   "source": [
    "from sklearn import preprocessing\n",
    "ICM_label_encoder = preprocessing.LabelEncoder()\n",
    "ICM_label_encoder.fit(tagList_icm)\n",
    "\n",
    "tagList_icm = ICM_label_encoder.transform(tagList_icm)\n",
    "\n",
    "print(tagList_icm[0:10])"
   ]
  },
  {
   "cell_type": "markdown",
   "metadata": {},
   "source": [
    "# We can now build the ICM\n",
    "\n",
    "#### Be careful with the indices!"
   ]
  },
  {
   "cell_type": "code",
   "execution_count": 8,
   "metadata": {},
   "outputs": [
    {
     "data": {
      "text/plain": [
       "<65134x16529 sparse matrix of type '<class 'numpy.float64'>'\n",
       "\twith 71155 stored elements in Compressed Sparse Row format>"
      ]
     },
     "execution_count": 8,
     "metadata": {},
     "output_type": "execute_result"
    }
   ],
   "source": [
    "import numpy as np\n",
    "\n",
    "n_items = URM_all.shape[1]\n",
    "n_tags = max(tagList_icm) + 1\n",
    "\n",
    "ICM_shape = (n_items, n_tags)\n",
    "\n",
    "ones = np.ones(len(tagList_icm))\n",
    "ICM_all = sps.coo_matrix((ones, (itemList_icm, tagList_icm)), shape = ICM_shape)\n",
    "ICM_all = ICM_all.tocsr()\n",
    "\n",
    "ICM_all"
   ]
  },
  {
   "cell_type": "markdown",
   "metadata": {},
   "source": [
    "# Let's take a look at the ICM\n",
    "\n",
    "### We leverage CSR and CSC indptr data structure to compute the number of cells that have values for that row or column"
   ]
  },
  {
   "cell_type": "code",
   "execution_count": 9,
   "metadata": {},
   "outputs": [],
   "source": [
    "ICM_all = sps.csr_matrix(ICM_all)\n",
    "features_per_item = np.ediff1d(ICM_all.indptr)\n",
    "\n",
    "ICM_all = sps.csc_matrix(ICM_all)\n",
    "items_per_feature = np.ediff1d(ICM_all.indptr)\n",
    "\n",
    "ICM_all = sps.csr_matrix(ICM_all)"
   ]
  },
  {
   "cell_type": "code",
   "execution_count": 10,
   "metadata": {},
   "outputs": [
    {
     "name": "stdout",
     "output_type": "stream",
     "text": [
      "(65134,)\n",
      "(16529,)\n"
     ]
    }
   ],
   "source": [
    "print(features_per_item.shape)\n",
    "print(items_per_feature.shape)"
   ]
  },
  {
   "cell_type": "code",
   "execution_count": 11,
   "metadata": {},
   "outputs": [],
   "source": [
    "features_per_item = np.sort(features_per_item)\n",
    "items_per_feature = np.sort(items_per_feature)"
   ]
  },
  {
   "cell_type": "code",
   "execution_count": 12,
   "metadata": {},
   "outputs": [
    {
     "data": {
      "image/png": "[encoded data removed]",
      "text/plain": [
       "<Figure size 432x288 with 1 Axes>"
      ]
     },
     "metadata": {
      "needs_background": "light"
     },
     "output_type": "display_data"
    }
   ],
   "source": [
    "import matplotlib.pyplot as pyplot\n",
    "%matplotlib inline  \n",
    "\n",
    "pyplot.plot(features_per_item, 'ro')\n",
    "pyplot.ylabel('Num features ')\n",
    "pyplot.xlabel('Item Index')\n",
    "pyplot.show()"
   ]
  },
  {
   "cell_type": "code",
   "execution_count": 13,
   "metadata": {},
   "outputs": [
    {
     "data": {
      "image/png": "[encoded data removed]",
      "text/plain": [
       "<Figure size 432x288 with 1 Axes>"
      ]
     },
     "metadata": {
      "needs_background": "light"
     },
     "output_type": "display_data"
    }
   ],
   "source": [
    "pyplot.plot(items_per_feature, 'ro')\n",
    "pyplot.ylabel('Num items ')\n",
    "pyplot.xlabel('Feature Index')\n",
    "pyplot.show()"
   ]
  },
  {
   "cell_type": "markdown",
   "metadata": {},
   "source": [
    "# We can now build the recommender algorithm, but first we need the train/test split and the evaluation function:"
   ]
  },
  {
   "cell_type": "code",
   "execution_count": 14,
   "metadata": {},
   "outputs": [
    {
     "name": "stdout",
     "output_type": "stream",
     "text": [
      "Warning: 1690 (2.36 %) of 71568 users have no train items\n",
      "Warning: 1775 (2.48 %) of 71568 users have no sampled items\n",
      "Warning: 1690 (2.36 %) of 71568 users have no train items\n",
      "Warning: 1922 (2.69 %) of 71568 users have no sampled items\n"
     ]
    }
   ],
   "source": [
    "from Base.Evaluation.Evaluator import EvaluatorHoldout\n",
    "from Data_manager.split_functions.split_train_validation_random_holdout import split_train_in_two_percentage_global_sample\n",
    "\n",
    "URM_train, URM_test = split_train_in_two_percentage_global_sample(URM_all, train_percentage = 0.80)\n",
    "URM_train, URM_validation = split_train_in_two_percentage_global_sample(URM_train, train_percentage = 0.80)\n",
    "\n",
    "evaluator_validation = EvaluatorHoldout(URM_validation, cutoff_list=[10])\n",
    "evaluator_test = EvaluatorHoldout(URM_test, cutoff_list=[10])\n"
   ]
  },
  {
   "cell_type": "code",
   "execution_count": 15,
   "metadata": {},
   "outputs": [],
   "source": [
    "from Base.Similarity.Compute_Similarity_Python import Compute_Similarity_Python\n",
    "\n",
    "class ItemKNNCBFRecommender(object):\n",
    "    \n",
    "    def __init__(self, URM, ICM):\n",
    "        self.URM = URM\n",
    "        self.ICM = ICM\n",
    "        \n",
    "            \n",
    "    def fit(self, topK=50, shrink=100, normalize = True, similarity = \"cosine\"):\n",
    "        \n",
    "        similarity_object = Compute_Similarity_Python(self.ICM.T, shrink=shrink, \n",
    "                                                  topK=topK, normalize=normalize, \n",
    "                                                  similarity = similarity)\n",
    "        \n",
    "        self.W_sparse = similarity_object.compute_similarity()\n",
    "\n",
    "        \n",
    "    def recommend(self, user_id, at=None, exclude_seen=True):\n",
    "        # compute the scores using the dot product\n",
    "        user_profile = self.URM[user_id]\n",
    "        scores = user_profile.dot(self.W_sparse).toarray().ravel()\n",
    "\n",
    "        if exclude_seen:\n",
    "            scores = self.filter_seen(user_id, scores)\n",
    "\n",
    "        # rank items\n",
    "        ranking = scores.argsort()[::-1]\n",
    "            \n",
    "        return ranking[:at]\n",
    "    \n",
    "    \n",
    "    def filter_seen(self, user_id, scores):\n",
    "\n",
    "        start_pos = self.URM.indptr[user_id]\n",
    "        end_pos = self.URM.indptr[user_id+1]\n",
    "\n",
    "        user_profile = self.URM.indices[start_pos:end_pos]\n",
    "        \n",
    "        scores[user_profile] = -np.inf\n",
    "\n",
    "        return scores"
   ]
  },
  {
   "cell_type": "markdown",
   "metadata": {},
   "source": [
    "### We need to define Cosine similarity... Let's look at the attached source code"
   ]
  },
  {
   "cell_type": "markdown",
   "metadata": {},
   "source": [
    "### See also a [list of commonly used KNN similarity heuristics](https://github.com/MaurizioFD/RecSys_Course_2018/blob/master/slides/List_of_KNN_similarity_heuristics.pdf)"
   ]
  },
  {
   "cell_type": "markdown",
   "metadata": {},
   "source": [
    "## A KNN is built with the following steps:\n",
    "* Compute the similarity of an item with all others\n",
    "* Select the k-highest similarities"
   ]
  },
  {
   "cell_type": "code",
   "execution_count": 16,
   "metadata": {},
   "outputs": [],
   "source": [
    "item_id = 50\n",
    "shrink = 10"
   ]
  },
  {
   "cell_type": "markdown",
   "metadata": {},
   "source": [
    "The numerator is the dot product of the item features times the whole ICM data transposed"
   ]
  },
  {
   "cell_type": "code",
   "execution_count": 17,
   "metadata": {},
   "outputs": [
    {
     "data": {
      "text/plain": [
       "array([0., 7., 0., ..., 0., 0., 0.])"
      ]
     },
     "execution_count": 17,
     "metadata": {},
     "output_type": "execute_result"
    }
   ],
   "source": [
    "numerator_vector = ICM_all[item_id].dot(ICM_all.T).toarray().ravel()\n",
    "numerator_vector"
   ]
  },
  {
   "cell_type": "code",
   "execution_count": 18,
   "metadata": {},
   "outputs": [
    {
     "data": {
      "text/plain": [
       "array([ 0.        , 31.43246729, 10.81665383, ...,  0.        ,\n",
       "        0.        ,  0.        ])"
      ]
     },
     "execution_count": 18,
     "metadata": {},
     "output_type": "execute_result"
    }
   ],
   "source": [
    "item_norms = np.sqrt(np.array(ICM_all.T.power(2).sum(axis=0))).ravel()\n",
    "item_norms"
   ]
  },
  {
   "cell_type": "markdown",
   "metadata": {},
   "source": [
    "The denominator will be the product of norms plus the srink term and a small value which prevents the denominator to be zero (only for non-negative data)"
   ]
  },
  {
   "cell_type": "code",
   "execution_count": 19,
   "metadata": {},
   "outputs": [
    {
     "data": {
      "text/plain": [
       "array([ 10.000001  , 810.75714271, 285.55943198, ...,  10.000001  ,\n",
       "        10.000001  ,  10.000001  ])"
      ]
     },
     "execution_count": 19,
     "metadata": {},
     "output_type": "execute_result"
    }
   ],
   "source": [
    "denominator_vector = item_norms[item_id] * item_norms + shrink + 1e-6\n",
    "denominator_vector"
   ]
  },
  {
   "cell_type": "code",
   "execution_count": 20,
   "metadata": {},
   "outputs": [],
   "source": [
    "similarity_vector = numerator_vector/denominator_vector"
   ]
  },
  {
   "cell_type": "markdown",
   "metadata": {},
   "source": [
    "Let's sort the similarity from the highest to the lowest"
   ]
  },
  {
   "cell_type": "code",
   "execution_count": 21,
   "metadata": {},
   "outputs": [
    {
     "data": {
      "text/plain": [
       "array([   50,  6187,  1625, ..., 22743, 22745, 65133], dtype=int64)"
      ]
     },
     "execution_count": 21,
     "metadata": {},
     "output_type": "execute_result"
    }
   ],
   "source": [
    "sorted_item_indices = np.argsort(-similarity_vector)\n",
    "sorted_item_indices"
   ]
  },
  {
   "cell_type": "code",
   "execution_count": 22,
   "metadata": {},
   "outputs": [
    {
     "data": {
      "image/png": "[encoded data removed]",
      "text/plain": [
       "<Figure size 432x288 with 1 Axes>"
      ]
     },
     "metadata": {
      "needs_background": "light"
     },
     "output_type": "display_data"
    }
   ],
   "source": [
    "pyplot.plot(similarity_vector[sorted_item_indices], 'ro')\n",
    "pyplot.ylabel('Similarity')\n",
    "pyplot.xlabel('Item')\n",
    "pyplot.show()"
   ]
  },
  {
   "cell_type": "markdown",
   "metadata": {},
   "source": [
    "Now we select the k most similar items"
   ]
  },
  {
   "cell_type": "code",
   "execution_count": 23,
   "metadata": {},
   "outputs": [],
   "source": [
    "k = 100"
   ]
  },
  {
   "cell_type": "code",
   "execution_count": 24,
   "metadata": {},
   "outputs": [
    {
     "data": {
      "image/png": "[encoded data removed]",
      "text/plain": [
       "<Figure size 432x288 with 1 Axes>"
      ]
     },
     "metadata": {
      "needs_background": "light"
     },
     "output_type": "display_data"
    }
   ],
   "source": [
    "pyplot.plot(similarity_vector[sorted_item_indices[0:k]], 'ro')\n",
    "pyplot.ylabel('Similarity')\n",
    "pyplot.xlabel('Item')\n",
    "pyplot.show()"
   ]
  },
  {
   "cell_type": "markdown",
   "metadata": {},
   "source": [
    "The operation is performed for all items.\n",
    "A simple strategy to perform it efficiently is to vectorize the most computationally intensive part, the dot product, on a group of items. The speedup can be of a factor of 10-100.\n",
    "This strategy is limited by the fact that the result of the dot product is a huge item-item dense similarity which likely does not fit in memory."
   ]
  },
  {
   "cell_type": "code",
   "execution_count": 25,
   "metadata": {},
   "outputs": [
    {
     "name": "stderr",
     "output_type": "stream",
     "text": [
      "Traceback (most recent call last):\n",
      "  File \"<ipython-input-25-898ccb95d904>\", line 4, in <module>\n",
      "    numerator_matrix = ICM_all.dot(ICM_all.T).toarray()\n",
      "  File \"C:\\ProgramData\\Anaconda3\\envs\\DLevaluation_cpu\\lib\\site-packages\\scipy\\sparse\\compressed.py\", line 962, in toarray\n",
      "    out = self._process_toarray_args(order, out)\n",
      "  File \"C:\\ProgramData\\Anaconda3\\envs\\DLevaluation_cpu\\lib\\site-packages\\scipy\\sparse\\base.py\", line 1187, in _process_toarray_args\n",
      "    return np.zeros(self.shape, dtype=self.dtype, order=order)\n",
      "MemoryError\n"
     ]
    }
   ],
   "source": [
    "import traceback\n",
    "\n",
    "try:\n",
    "    numerator_matrix = ICM_all.dot(ICM_all.T).toarray()\n",
    "    \n",
    "except Exception as e:\n",
    "    traceback.print_exc()\n",
    "    "
   ]
  },
  {
   "cell_type": "markdown",
   "metadata": {},
   "source": [
    "The solution is:\n",
    "* Compute the numerator a block of items at a time leveraging vectorization while not running out of memory\n",
    "* Extract the k-nn on those items\n",
    "* Built incrementally the sparse similarity matrix"
   ]
  },
  {
   "cell_type": "code",
   "execution_count": 26,
   "metadata": {},
   "outputs": [
    {
     "data": {
      "text/plain": [
       "(100, 65134)"
      ]
     },
     "execution_count": 26,
     "metadata": {},
     "output_type": "execute_result"
    }
   ],
   "source": [
    "block_size = 100\n",
    "\n",
    "numerator_block = ICM_all[0:block_size].dot(ICM_all.T).toarray()\n",
    "numerator_block.shape"
   ]
  },
  {
   "cell_type": "markdown",
   "metadata": {},
   "source": [
    "Let's compare the speed to compute the dot product on the whole similarity of the two strategies"
   ]
  },
  {
   "cell_type": "code",
   "execution_count": 27,
   "metadata": {},
   "outputs": [
    {
     "name": "stdout",
     "output_type": "stream",
     "text": [
      "Computing the similarity one item at a time runs at 808.38 items/sec\n"
     ]
    }
   ],
   "source": [
    "import time\n",
    "\n",
    "n_items = ICM_all.shape[0]\n",
    "\n",
    "start_time = time.time()\n",
    "\n",
    "for n_item in range(n_items):\n",
    "    numerator_vector = ICM_all[item_id].dot(ICM_all.T).toarray().ravel()\n",
    "    \n",
    "end_time = time.time()\n",
    "\n",
    "print(\"Computing the similarity one item at a time runs at {:.2f} items/sec\".format(n_items/(end_time-start_time)))\n",
    "\n"
   ]
  },
  {
   "cell_type": "code",
   "execution_count": 28,
   "metadata": {},
   "outputs": [
    {
     "name": "stdout",
     "output_type": "stream",
     "text": [
      "Computing the similarity in blocks of 100 items at a time runs at 55857.87 items/sec\n"
     ]
    }
   ],
   "source": [
    "n_items = ICM_all.shape[0]\n",
    "\n",
    "start_time = time.time()\n",
    "\n",
    "block_size = 100\n",
    "blocks_start_positions = range(0, n_items, block_size)\n",
    "\n",
    "for start_pos in blocks_start_positions:\n",
    "    end_pos = min(start_pos + block_size, n_items)\n",
    "    \n",
    "    numerator_block = ICM_all[start_pos:end_pos].dot(ICM_all.T).toarray()\n",
    "    \n",
    "end_time = time.time()\n",
    "\n",
    "print(\"Computing the similarity in blocks of 100 items at a time runs at {:.2f} items/sec\".format(n_items/(end_time-start_time)))\n",
    "\n"
   ]
  },
  {
   "cell_type": "markdown",
   "metadata": {},
   "source": [
    "### In this case the vectorized implementation runs >50 times faster!\n",
    "\n",
    "#### Usually most of the speed gain comes with blocks of 100 or so items, depending on the system. Much higher than that tends to not be beneficial while requiring increasingly more memory."
   ]
  },
  {
   "cell_type": "markdown",
   "metadata": {},
   "source": [
    "Now an example of something you should *never* do, nested loops to compute the similarity of each item without vectorization"
   ]
  },
  {
   "cell_type": "code",
   "execution_count": 29,
   "metadata": {},
   "outputs": [
    {
     "name": "stdout",
     "output_type": "stream",
     "text": [
      "Computing the similarity with nested loops runs at 32.07 items/sec\n"
     ]
    }
   ],
   "source": [
    "n_items = 100\n",
    "\n",
    "start_time = time.time()\n",
    "\n",
    "for n_item in range(n_items):\n",
    "    for second_item in range(n_items):\n",
    "        numerator_vector = ICM_all[item_id].dot(ICM_all[second_item].T)\n",
    "    \n",
    "end_time = time.time()\n",
    "\n",
    "print(\"Computing the similarity with nested loops runs at {:.2f} items/sec\".format(n_items/(end_time-start_time)))\n",
    "\n"
   ]
  },
  {
   "cell_type": "markdown",
   "metadata": {},
   "source": [
    "You see how incredibly slow nested loops are compared to a well vectorized implementation"
   ]
  },
  {
   "cell_type": "markdown",
   "metadata": {},
   "source": [
    "## Test our CBF recommender:"
   ]
  },
  {
   "cell_type": "code",
   "execution_count": 30,
   "metadata": {},
   "outputs": [
    {
     "name": "stdout",
     "output_type": "stream",
     "text": [
      "Similarity column 37400 ( 57 % ), 1243.45 column/sec, elapsed time 0.50 min\n",
      "Similarity column 65134 ( 100 % ), 1254.02 column/sec, elapsed time 0.87 min\n"
     ]
    }
   ],
   "source": [
    "recommender = ItemKNNCBFRecommender(URM_train, ICM_all)\n",
    "recommender.fit(shrink=0.0, topK=50)"
   ]
  },
  {
   "cell_type": "code",
   "execution_count": 31,
   "metadata": {},
   "outputs": [
    {
     "name": "stdout",
     "output_type": "stream",
     "text": [
      "[8636 6333  153  592 2640]\n",
      "[ 153 2001 1036 3984 6934]\n",
      "[65133 21706 21719 21718 21717]\n",
      "[ 1210  5618  2628 31658  6350]\n",
      "[5651 2566 2043 8525 2052]\n",
      "[65133 21706 21719 21718 21717]\n",
      "[65133 21706 21719 21718 21717]\n",
      "[1026 2566 2043 5651 8525]\n",
      "[ 4901  5952  2628  1619 33679]\n",
      "[65133 21706 21719 21718 21717]\n"
     ]
    }
   ],
   "source": [
    "userList_unique = list(set(userList_icm))\n",
    "for user_id in userList_unique[0:10]:\n",
    "    print(recommender.recommend(user_id, at=5))"
   ]
  },
  {
   "cell_type": "markdown",
   "metadata": {},
   "source": [
    "#### Let's talk about speed\n",
    "\n",
    "#### Time to compute recommendations for a fixed group of users"
   ]
  },
  {
   "cell_type": "code",
   "execution_count": 32,
   "metadata": {},
   "outputs": [
    {
     "name": "stdout",
     "output_type": "stream",
     "text": [
      "Reasonable implementation speed is 447.20 usr/sec\n"
     ]
    }
   ],
   "source": [
    "import time\n",
    "\n",
    "n_users_to_test = 1000\n",
    "\n",
    "start_time = time.time()\n",
    "\n",
    "for user_id in range(n_users_to_test):\n",
    "    recommender.recommend(user_id, at=5)\n",
    "    \n",
    "end_time = time.time()\n",
    "\n",
    "print(\"Reasonable implementation speed is {:.2f} usr/sec\".format(n_users_to_test/(end_time-start_time)))\n"
   ]
  },
  {
   "cell_type": "markdown",
   "metadata": {},
   "source": [
    "### Let's add a common mistake.... a CSC URM"
   ]
  },
  {
   "cell_type": "code",
   "execution_count": 33,
   "metadata": {},
   "outputs": [
    {
     "name": "stdout",
     "output_type": "stream",
     "text": [
      "Similarity column 40100 ( 62 % ), 1333.30 column/sec, elapsed time 0.50 min\n",
      "Similarity column 65134 ( 100 % ), 1292.27 column/sec, elapsed time 0.84 min\n"
     ]
    }
   ],
   "source": [
    "URM_train_csc = URM_train.tocsc()\n",
    "\n",
    "recommender = ItemKNNCBFRecommender(URM_train_csc, ICM_all)\n",
    "recommender.fit(shrink=0.0, topK=50)"
   ]
  },
  {
   "cell_type": "code",
   "execution_count": 34,
   "metadata": {},
   "outputs": [
    {
     "name": "stdout",
     "output_type": "stream",
     "text": [
      "Exception index 65135 is out of bounds for axis 0 with size 65134\n"
     ]
    },
    {
     "name": "stderr",
     "output_type": "stream",
     "text": [
      "Traceback (most recent call last):\n",
      "  File \"<ipython-input-34-cd8883de5544>\", line 10, in <module>\n",
      "    recommender.recommend(user_id, at=5)\n",
      "  File \"<ipython-input-15-88972fee293e>\", line 25, in recommend\n",
      "    scores = self.filter_seen(user_id, scores)\n",
      "  File \"<ipython-input-15-88972fee293e>\", line 40, in filter_seen\n",
      "    scores[user_profile] = -np.inf\n",
      "IndexError: index 65135 is out of bounds for axis 0 with size 65134\n"
     ]
    }
   ],
   "source": [
    "import time, traceback\n",
    "\n",
    "try:\n",
    "\n",
    "    n_users_to_test = 1000\n",
    "\n",
    "    start_time = time.time()\n",
    "\n",
    "    for user_id in range(n_users_to_test):\n",
    "        recommender.recommend(user_id, at=5)\n",
    "\n",
    "    end_time = time.time()\n",
    "\n",
    "    print(\"Wrong implementation speed is {:.2f} usr/sec\".format(n_users_to_test/(end_time-start_time)))\n",
    "\n",
    "    \n",
    "except Exception as e:\n",
    "        \n",
    "    print(\"Exception {}\".format(str(e)))\n",
    "    traceback.print_exc()\n"
   ]
  },
  {
   "cell_type": "markdown",
   "metadata": {},
   "source": [
    "## Parameter tuning\n",
    "\n",
    "#### Once we have built our model we can play with its parameters\n",
    "* Number of neighbors\n",
    "* Shrinkage\n",
    "* Similarity type"
   ]
  },
  {
   "cell_type": "markdown",
   "metadata": {},
   "source": [
    "#### Number of neighbors"
   ]
  },
  {
   "cell_type": "code",
   "execution_count": 36,
   "metadata": {},
   "outputs": [
    {
     "name": "stdout",
     "output_type": "stream",
     "text": [
      "ItemKNNCBFRecommender: URM Detected 1690 (2.36 %) cold users.\n",
      "ItemKNNCBFRecommender: URM Detected 54523 (83.71 %) cold items.\n",
      "Similarity column 65134 ( 100 % ), 3801.45 column/sec, elapsed time 0.29 min\n",
      "EvaluatorHoldout: Processed 37000 ( 53.01% ) in 30.66 sec. Users per second: 1207\n",
      "EvaluatorHoldout: Processed 69793 ( 100.00% ) in 56.84 sec. Users per second: 1228\n",
      "ItemKNNCBFRecommender: URM Detected 1690 (2.36 %) cold users.\n",
      "ItemKNNCBFRecommender: URM Detected 54523 (83.71 %) cold items.\n",
      "Similarity column 65134 ( 100 % ), 3860.03 column/sec, elapsed time 0.28 min\n",
      "EvaluatorHoldout: Processed 34000 ( 48.72% ) in 30.47 sec. Users per second: 1116\n",
      "EvaluatorHoldout: Processed 68000 ( 97.43% ) in 1.01 min. Users per second: 1120\n",
      "EvaluatorHoldout: Processed 69793 ( 100.00% ) in 1.04 min. Users per second: 1119\n",
      "ItemKNNCBFRecommender: URM Detected 1690 (2.36 %) cold users.\n",
      "ItemKNNCBFRecommender: URM Detected 54523 (83.71 %) cold items.\n",
      "Similarity column 65134 ( 100 % ), 3855.46 column/sec, elapsed time 0.28 min\n",
      "EvaluatorHoldout: Processed 32000 ( 45.85% ) in 30.86 sec. Users per second: 1037\n",
      "EvaluatorHoldout: Processed 64000 ( 91.70% ) in 1.02 min. Users per second: 1042\n",
      "EvaluatorHoldout: Processed 69793 ( 100.00% ) in 1.12 min. Users per second: 1042\n",
      "ItemKNNCBFRecommender: URM Detected 1690 (2.36 %) cold users.\n",
      "ItemKNNCBFRecommender: URM Detected 54523 (83.71 %) cold items.\n",
      "Similarity column 65134 ( 100 % ), 3852.72 column/sec, elapsed time 0.28 min\n",
      "EvaluatorHoldout: Processed 29000 ( 41.55% ) in 30.08 sec. Users per second: 964\n",
      "EvaluatorHoldout: Processed 59000 ( 84.54% ) in 1.02 min. Users per second: 967\n",
      "EvaluatorHoldout: Processed 69793 ( 100.00% ) in 1.20 min. Users per second: 967\n",
      "ItemKNNCBFRecommender: URM Detected 1690 (2.36 %) cold users.\n",
      "ItemKNNCBFRecommender: URM Detected 54523 (83.71 %) cold items.\n",
      "Similarity column 65134 ( 100 % ), 3657.98 column/sec, elapsed time 0.30 min\n",
      "EvaluatorHoldout: Processed 26000 ( 37.25% ) in 30.76 sec. Users per second: 845\n",
      "EvaluatorHoldout: Processed 52000 ( 74.51% ) in 1.02 min. Users per second: 849\n",
      "EvaluatorHoldout: Processed 69793 ( 100.00% ) in 1.37 min. Users per second: 850\n"
     ]
    }
   ],
   "source": [
    "from KNN.ItemKNNCBFRecommender import ItemKNNCBFRecommender\n",
    "\n",
    "x_tick = [10, 50, 100, 200, 500]\n",
    "MAP_per_k = []\n",
    "\n",
    "for topK in x_tick:\n",
    "    \n",
    "    recommender = ItemKNNCBFRecommender(URM_train, ICM_all)\n",
    "    recommender.fit(shrink=0.0, topK=topK)\n",
    "    \n",
    "    result_dict, _ = evaluator_test.evaluateRecommender(recommender)\n",
    "    \n",
    "    MAP_per_k.append(result_dict[10][\"MAP\"])"
   ]
  },
  {
   "cell_type": "code",
   "execution_count": 37,
   "metadata": {},
   "outputs": [
    {
     "data": {
      "image/png": "[encoded data removed]",
      "text/plain": [
       "<Figure size 432x288 with 1 Axes>"
      ]
     },
     "metadata": {
      "needs_background": "light"
     },
     "output_type": "display_data"
    }
   ],
   "source": [
    "pyplot.plot(x_tick, MAP_per_k)\n",
    "pyplot.ylabel('MAP')\n",
    "pyplot.xlabel('TopK')\n",
    "pyplot.show()"
   ]
  },
  {
   "cell_type": "markdown",
   "metadata": {},
   "source": [
    "#### On this dataset the number of neighbors does not have a great impact on MAP. Higher values of TopK might work even better\n",
    "\n",
    "#### Different datasets will behave in different ways."
   ]
  },
  {
   "cell_type": "markdown",
   "metadata": {},
   "source": [
    "### Shrinkage"
   ]
  },
  {
   "cell_type": "code",
   "execution_count": 38,
   "metadata": {},
   "outputs": [
    {
     "name": "stdout",
     "output_type": "stream",
     "text": [
      "ItemKNNCBFRecommender: URM Detected 1690 (2.36 %) cold users.\n",
      "ItemKNNCBFRecommender: URM Detected 54523 (83.71 %) cold items.\n",
      "Similarity column 65134 ( 100 % ), 3864.61 column/sec, elapsed time 0.28 min\n",
      "EvaluatorHoldout: Processed 32000 ( 45.85% ) in 30.88 sec. Users per second: 1036\n",
      "EvaluatorHoldout: Processed 64000 ( 91.70% ) in 1.02 min. Users per second: 1041\n",
      "EvaluatorHoldout: Processed 69793 ( 100.00% ) in 1.12 min. Users per second: 1041\n",
      "ItemKNNCBFRecommender: URM Detected 1690 (2.36 %) cold users.\n",
      "ItemKNNCBFRecommender: URM Detected 54523 (83.71 %) cold items.\n",
      "Similarity column 65134 ( 100 % ), 3872.19 column/sec, elapsed time 0.28 min\n",
      "EvaluatorHoldout: Processed 30000 ( 42.98% ) in 30.36 sec. Users per second: 988\n",
      "EvaluatorHoldout: Processed 61000 ( 87.40% ) in 1.02 min. Users per second: 995\n",
      "EvaluatorHoldout: Processed 69793 ( 100.00% ) in 1.17 min. Users per second: 995\n",
      "ItemKNNCBFRecommender: URM Detected 1690 (2.36 %) cold users.\n",
      "ItemKNNCBFRecommender: URM Detected 54523 (83.71 %) cold items.\n",
      "Similarity column 65134 ( 100 % ), 3837.74 column/sec, elapsed time 0.28 min\n",
      "EvaluatorHoldout: Processed 29000 ( 41.55% ) in 31.08 sec. Users per second: 933\n",
      "EvaluatorHoldout: Processed 58000 ( 83.10% ) in 1.02 min. Users per second: 945\n",
      "EvaluatorHoldout: Processed 69793 ( 100.00% ) in 1.23 min. Users per second: 948\n",
      "ItemKNNCBFRecommender: URM Detected 1690 (2.36 %) cold users.\n",
      "ItemKNNCBFRecommender: URM Detected 54523 (83.71 %) cold items.\n",
      "Similarity column 65134 ( 100 % ), 3873.11 column/sec, elapsed time 0.28 min\n",
      "EvaluatorHoldout: Processed 29000 ( 41.55% ) in 30.89 sec. Users per second: 939\n",
      "EvaluatorHoldout: Processed 58000 ( 83.10% ) in 1.02 min. Users per second: 946\n",
      "EvaluatorHoldout: Processed 69793 ( 100.00% ) in 1.23 min. Users per second: 946\n",
      "ItemKNNCBFRecommender: URM Detected 1690 (2.36 %) cold users.\n",
      "ItemKNNCBFRecommender: URM Detected 54523 (83.71 %) cold items.\n",
      "Similarity column 65134 ( 100 % ), 3847.03 column/sec, elapsed time 0.28 min\n",
      "EvaluatorHoldout: Processed 29000 ( 41.55% ) in 30.98 sec. Users per second: 936\n",
      "EvaluatorHoldout: Processed 58000 ( 83.10% ) in 1.03 min. Users per second: 940\n",
      "EvaluatorHoldout: Processed 69793 ( 100.00% ) in 1.24 min. Users per second: 940\n",
      "ItemKNNCBFRecommender: URM Detected 1690 (2.36 %) cold users.\n",
      "ItemKNNCBFRecommender: URM Detected 54523 (83.71 %) cold items.\n",
      "Similarity column 65134 ( 100 % ), 3841.13 column/sec, elapsed time 0.28 min\n",
      "EvaluatorHoldout: Processed 28000 ( 40.12% ) in 30.17 sec. Users per second: 928\n",
      "EvaluatorHoldout: Processed 56000 ( 80.24% ) in 1.01 min. Users per second: 922\n",
      "EvaluatorHoldout: Processed 69793 ( 100.00% ) in 1.26 min. Users per second: 922\n"
     ]
    }
   ],
   "source": [
    "x_tick = [0, 10, 50, 100, 200, 500]\n",
    "MAP_per_shrinkage = []\n",
    "\n",
    "for shrink in x_tick:\n",
    "    \n",
    "    recommender = ItemKNNCBFRecommender(URM_train, ICM_all)\n",
    "    recommender.fit(shrink=shrink, topK=100)\n",
    "    \n",
    "    result_dict, _ = evaluator_test.evaluateRecommender(recommender)\n",
    "    \n",
    "    MAP_per_shrinkage.append(result_dict[10][\"MAP\"])"
   ]
  },
  {
   "cell_type": "code",
   "execution_count": 39,
   "metadata": {},
   "outputs": [
    {
     "data": {
      "image/png": "[encoded data removed]",
      "text/plain": [
       "<Figure size 432x288 with 1 Axes>"
      ]
     },
     "metadata": {
      "needs_background": "light"
     },
     "output_type": "display_data"
    }
   ],
   "source": [
    "pyplot.plot(x_tick, MAP_per_shrinkage)\n",
    "pyplot.ylabel('MAP')\n",
    "pyplot.xlabel('Shrinkage')\n",
    "pyplot.show()"
   ]
  },
  {
   "cell_type": "markdown",
   "metadata": {},
   "source": [
    "#### The shrinkage value (i.e. support) have a much stronger impact. Combine a parameter search with the two to ensure maximum recommendation quality\n",
    "\n",
    "## Be careful, overfitting!\n",
    "\n",
    "#### While a thorough parameter tuning might result in significantly higher MAP on your validation split, it could have only marginally better or even worse MAP on the test set"
   ]
  },
  {
   "cell_type": "markdown",
   "metadata": {},
   "source": [
    "# Feature weighting"
   ]
  },
  {
   "cell_type": "markdown",
   "metadata": {
    "collapsed": true
   },
   "source": [
    "# IDF"
   ]
  },
  {
   "cell_type": "markdown",
   "metadata": {},
   "source": [
    "![title](https://www.link-assistant.com/images/news/tf-idf-tool-for-seo/screen-03.png)"
   ]
  },
  {
   "cell_type": "code",
   "execution_count": 40,
   "metadata": {},
   "outputs": [
    {
     "name": "stdout",
     "output_type": "stream",
     "text": [
      "(65134, 16529)\n",
      "(16529,)\n"
     ]
    }
   ],
   "source": [
    "num_tot_items = ICM_all.shape[0]\n",
    "\n",
    "# let's count how many items have a certain feature\n",
    "items_per_feature = (ICM_all > 0).sum(axis=0)\n",
    "\n",
    "IDF = np.array(np.log(num_tot_items / items_per_feature))[0]\n",
    "\n",
    "print(ICM_all.shape)\n",
    "print(IDF.shape)"
   ]
  },
  {
   "cell_type": "code",
   "execution_count": 41,
   "metadata": {},
   "outputs": [
    {
     "data": {
      "text/plain": [
       "array([11.08420197, 11.08420197, 11.08420197, ..., 11.08420197,\n",
       "       11.08420197, 11.08420197])"
      ]
     },
     "execution_count": 41,
     "metadata": {},
     "output_type": "execute_result"
    }
   ],
   "source": [
    "IDF"
   ]
  },
  {
   "cell_type": "code",
   "execution_count": 42,
   "metadata": {},
   "outputs": [
    {
     "data": {
      "image/png": "[encoded data removed]",
      "text/plain": [
       "<Figure size 432x288 with 1 Axes>"
      ]
     },
     "metadata": {
      "needs_background": "light"
     },
     "output_type": "display_data"
    }
   ],
   "source": [
    "pyplot.plot(np.sort(IDF))\n",
    "pyplot.ylabel('IDF')\n",
    "pyplot.xlabel('Sorted feature')\n",
    "pyplot.show()"
   ]
  },
  {
   "cell_type": "markdown",
   "metadata": {},
   "source": [
    "#### Highest ranked features"
   ]
  },
  {
   "cell_type": "code",
   "execution_count": 43,
   "metadata": {},
   "outputs": [
    {
     "data": {
      "text/plain": [
       "array([\"!950's Superman TV show\", 'edo', 'edulcorada', 'edward furlong',\n",
       "       'edward r. murrow', 'effective and superfun monster movie.', 'egg',\n",
       "       'eggs', 'ego', 'eh -  took me two watches to kinda like it',\n",
       "       'edinburgh', 'ehh', 'ein grosses Film - ausgezeichnet!!',\n",
       "       'electric shocks', 'electricity', 'electronics', 'elegant love',\n",
       "       'elektra', 'elisabeth shue', 'elitism'], dtype='<U241')"
      ]
     },
     "execution_count": 43,
     "metadata": {},
     "output_type": "execute_result"
    }
   ],
   "source": [
    "sorted_features = np.argsort(-IDF)\n",
    "\n",
    "highest_ranked_features = sorted_features[:20]\n",
    "ICM_label_encoder.inverse_transform(highest_ranked_features)"
   ]
  },
  {
   "cell_type": "markdown",
   "metadata": {},
   "source": [
    "#### Lowest ranked features"
   ]
  },
  {
   "cell_type": "code",
   "execution_count": 44,
   "metadata": {},
   "outputs": [
    {
     "data": {
      "text/plain": [
       "array(['atmospheric', 'library', 'seen more than once',\n",
       "       'Nudity (Topless - Brief)', 'To See', 'adapted from:book',\n",
       "       'imdb top 250', \"Can't remember\", 'classic', 'Bibliothek',\n",
       "       'Betamax', 'National Film Registry', 'movie to see',\n",
       "       'Nudity (Topless)', 'based on a book', '70mm', 'R',\n",
       "       \"erlend's DVDs\", 'less than 300 ratings', \"Tumey's DVDs\"],\n",
       "      dtype='<U241')"
      ]
     },
     "execution_count": 44,
     "metadata": {},
     "output_type": "execute_result"
    }
   ],
   "source": [
    "lowest_ranked_features = sorted_features[-20:]\n",
    "ICM_label_encoder.inverse_transform(lowest_ranked_features)"
   ]
  },
  {
   "cell_type": "code",
   "execution_count": 45,
   "metadata": {},
   "outputs": [
    {
     "name": "stdout",
     "output_type": "stream",
     "text": [
      "(16529,)\n",
      "(65134, 16529)\n",
      "(16529,)\n"
     ]
    }
   ],
   "source": [
    "ICM_idf = ICM_all.copy()\n",
    "# compute the number of non-zeros in each col\n",
    "# NOTE: this works only if X is instance of sparse.csc_matrix\n",
    "col_nnz = np.diff(sps.csc_matrix(ICM_idf).indptr)\n",
    "print(col_nnz.shape)\n",
    "print(ICM_idf.shape)\n",
    "print(IDF.shape)\n",
    "# then normalize the values in each col\n",
    "ICM_idf.data *= np.repeat(IDF, col_nnz)"
   ]
  },
  {
   "cell_type": "code",
   "execution_count": 47,
   "metadata": {
    "scrolled": true
   },
   "outputs": [
    {
     "name": "stdout",
     "output_type": "stream",
     "text": [
      "ItemKNNCBFRecommender: URM Detected 1690 (2.36 %) cold users.\n",
      "ItemKNNCBFRecommender: URM Detected 54523 (83.71 %) cold items.\n",
      "Similarity column 65134 ( 100 % ), 3686.76 column/sec, elapsed time 0.29 min\n",
      "EvaluatorHoldout: Processed 32000 ( 45.85% ) in 30.68 sec. Users per second: 1043\n",
      "EvaluatorHoldout: Processed 65000 ( 93.13% ) in 1.02 min. Users per second: 1061\n",
      "EvaluatorHoldout: Processed 69793 ( 100.00% ) in 1.10 min. Users per second: 1061\n"
     ]
    },
    {
     "data": {
      "text/plain": [
       "{'ROC_AUC': 0.2070265972459598,\n",
       " 'PRECISION': 0.060348459014499645,\n",
       " 'PRECISION_RECALL_MIN_DEN': 0.06441172751439454,\n",
       " 'RECALL': 0.02643440671057219,\n",
       " 'MAP': 0.030469758862055867,\n",
       " 'MRR': 0.17211540407814582,\n",
       " 'NDCG': 0.037953267883347984,\n",
       " 'F1': 0.03676476218242007,\n",
       " 'HIT_RATE': 0.6034845901451436,\n",
       " 'ARHR': 0.2194381958076168,\n",
       " 'NOVELTY': 0.0019159201316981819,\n",
       " 'AVERAGE_POPULARITY': 0.1654790081669998,\n",
       " 'DIVERSITY_MEAN_INTER_LIST': 0.946211790863206,\n",
       " 'DIVERSITY_HERFINDAHL': 0.9946198233460732,\n",
       " 'COVERAGE_ITEM': 0.06265544876715694,\n",
       " 'COVERAGE_ITEM_CORRECT': 0.016627260724045814,\n",
       " 'COVERAGE_USER': 0.9751984126984127,\n",
       " 'COVERAGE_USER_CORRECT': 0.35609490274983235,\n",
       " 'DIVERSITY_GINI': 0.006756776067309181,\n",
       " 'SHANNON_ENTROPY': 8.84345118331692}"
      ]
     },
     "execution_count": 47,
     "metadata": {},
     "output_type": "execute_result"
    }
   ],
   "source": [
    "recommender_idf = ItemKNNCBFRecommender(URM_train, ICM_idf)\n",
    "recommender_idf.fit(shrink=0.0, topK=50)\n",
    "\n",
    "result_dict, _ = evaluator_test.evaluateRecommender(recommender_idf)\n",
    "result_dict[10]"
   ]
  },
  {
   "cell_type": "markdown",
   "metadata": {},
   "source": [
    "#### There is  a small gain over the non-weighted ICM. Try other feature weighting methods like BM25..."
   ]
  },
  {
   "cell_type": "markdown",
   "metadata": {},
   "source": [
    "# BM25"
   ]
  },
  {
   "cell_type": "code",
   "execution_count": 48,
   "metadata": {},
   "outputs": [],
   "source": [
    "from Base.IR_feature_weighting import okapi_BM_25\n",
    "\n",
    "ICM_BM25 = ICM_all.copy().astype(np.float32)\n",
    "ICM_BM25 = okapi_BM_25(ICM_BM25)\n",
    "ICM_BM25 = ICM_BM25.tocsr()"
   ]
  },
  {
   "cell_type": "code",
   "execution_count": 49,
   "metadata": {
    "scrolled": true
   },
   "outputs": [
    {
     "name": "stdout",
     "output_type": "stream",
     "text": [
      "ItemKNNCBFRecommender: URM Detected 1690 (2.36 %) cold users.\n",
      "ItemKNNCBFRecommender: URM Detected 54523 (83.71 %) cold items.\n",
      "Similarity column 65134 ( 100 % ), 3736.46 column/sec, elapsed time 0.29 min\n",
      "EvaluatorHoldout: Processed 31000 ( 44.42% ) in 30.20 sec. Users per second: 1027\n",
      "EvaluatorHoldout: Processed 64000 ( 91.70% ) in 1.02 min. Users per second: 1048\n",
      "EvaluatorHoldout: Processed 69793 ( 100.00% ) in 1.11 min. Users per second: 1051\n"
     ]
    },
    {
     "data": {
      "text/plain": [
       "{'ROC_AUC': 0.20815472295738865,\n",
       " 'PRECISION': 0.06190878741419806,\n",
       " 'PRECISION_RECALL_MIN_DEN': 0.06621445071468135,\n",
       " 'RECALL': 0.027672855561717478,\n",
       " 'MAP': 0.030931849897542447,\n",
       " 'MRR': 0.17181978499231793,\n",
       " 'NDCG': 0.039659430508371146,\n",
       " 'F1': 0.03824874997157121,\n",
       " 'HIT_RATE': 0.619087874142106,\n",
       " 'ARHR': 0.22060488851500742,\n",
       " 'NOVELTY': 0.00194804685061512,\n",
       " 'AVERAGE_POPULARITY': 0.16462713246053637,\n",
       " 'DIVERSITY_MEAN_INTER_LIST': 0.9487980619695631,\n",
       " 'DIVERSITY_HERFINDAHL': 0.9948784467510778,\n",
       " 'COVERAGE_ITEM': 0.06515798200632542,\n",
       " 'COVERAGE_ITEM_CORRECT': 0.01693432001719532,\n",
       " 'COVERAGE_USER': 0.9751984126984127,\n",
       " 'COVERAGE_USER_CORRECT': 0.361781801922647,\n",
       " 'DIVERSITY_GINI': 0.007064402757753818,\n",
       " 'SHANNON_ENTROPY': 8.902052000913166}"
      ]
     },
     "execution_count": 49,
     "metadata": {},
     "output_type": "execute_result"
    }
   ],
   "source": [
    "recommender_bm25 = ItemKNNCBFRecommender(URM_train, ICM_BM25)\n",
    "recommender_bm25.fit(shrink=0.0, topK=50)\n",
    "\n",
    "result_dict, _ = evaluator_test.evaluateRecommender(recommender_bm25)\n",
    "result_dict[10]"
   ]
  },
  {
   "cell_type": "markdown",
   "metadata": {},
   "source": [
    "#### Another small gain over TF-IDF"
   ]
  },
  {
   "cell_type": "markdown",
   "metadata": {},
   "source": [
    "# Unnormalized similarity matrix"
   ]
  },
  {
   "cell_type": "code",
   "execution_count": 50,
   "metadata": {},
   "outputs": [
    {
     "name": "stdout",
     "output_type": "stream",
     "text": [
      "ItemKNNCBFRecommender: URM Detected 1690 (2.36 %) cold users.\n",
      "ItemKNNCBFRecommender: URM Detected 54523 (83.71 %) cold items.\n",
      "EvaluatorHoldout: Processed 19000 ( 27.22% ) in 30.41 sec. Users per second: 625\n",
      "EvaluatorHoldout: Processed 38000 ( 54.45% ) in 1.01 min. Users per second: 627\n",
      "EvaluatorHoldout: Processed 57000 ( 81.67% ) in 1.52 min. Users per second: 627\n",
      "EvaluatorHoldout: Processed 69793 ( 100.00% ) in 1.86 min. Users per second: 625\n"
     ]
    },
    {
     "data": {
      "text/plain": [
       "{'ROC_AUC': 0.3254914743348736,\n",
       " 'PRECISION': 0.11686702104798023,\n",
       " 'PRECISION_RECALL_MIN_DEN': 0.12451347624576094,\n",
       " 'RECALL': 0.051125396743676214,\n",
       " 'MAP': 0.06731911481276623,\n",
       " 'MRR': 0.2935413259482405,\n",
       " 'NDCG': 0.08068561452935788,\n",
       " 'F1': 0.07113264867393673,\n",
       " 'HIT_RATE': 1.168670210479561,\n",
       " 'ARHR': 0.42350010541375344,\n",
       " 'NOVELTY': 0.0014455765492946955,\n",
       " 'AVERAGE_POPULARITY': 0.4957891156325233,\n",
       " 'DIVERSITY_MEAN_INTER_LIST': 0.781303051769327,\n",
       " 'DIVERSITY_HERFINDAHL': 0.9781291857193198,\n",
       " 'COVERAGE_ITEM': 0.008628366137501151,\n",
       " 'COVERAGE_ITEM_CORRECT': 0.003976417846286118,\n",
       " 'COVERAGE_USER': 0.9751984126984127,\n",
       " 'COVERAGE_USER_CORRECT': 0.5271769505924435,\n",
       " 'DIVERSITY_GINI': 0.0007898098592797655,\n",
       " 'SHANNON_ENTROPY': 6.06052068984684}"
      ]
     },
     "execution_count": 50,
     "metadata": {},
     "output_type": "execute_result"
    }
   ],
   "source": [
    "recommender_dot = ItemKNNCBFRecommender(URM_train, ICM_all)\n",
    "recommender_dot.W_sparse = ICM_all * ICM_all.T\n",
    "\n",
    "result_dict, _ = evaluator_test.evaluateRecommender(recommender_dot)\n",
    "result_dict[10]"
   ]
  },
  {
   "cell_type": "code",
   "execution_count": null,
   "metadata": {},
   "outputs": [],
   "source": []
  }
 ],
 "metadata": {
  "anaconda-cloud": {},
  "kernelspec": {
   "display_name": "Python 3",
   "language": "python",
   "name": "python3"
  },
  "language_info": {
   "codemirror_mode": {
    "name": "ipython",
    "version": 3
   },
   "file_extension": ".py",
   "mimetype": "text/x-python",
   "name": "python",
   "nbconvert_exporter": "python",
   "pygments_lexer": "ipython3",
   "version": "3.6.9"
  }
 },
 "nbformat": 4,
 "nbformat_minor": 1
}
