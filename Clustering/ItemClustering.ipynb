{
 "cells": [
  {
   "cell_type": "code",
   "execution_count": 3,
   "metadata": {},
   "outputs": [],
   "source": [
    "import time\n",
    "import warnings\n",
    "import os\n",
    "\n",
    "import numpy as np\n",
    "import matplotlib.pyplot as plt\n",
    "\n",
    "from sklearn import cluster, datasets, mixture\n",
    "from sklearn.neighbors import kneighbors_graph\n",
    "from sklearn.preprocessing import StandardScaler\n",
    "from itertools import cycle, islice\n",
    "%matplotlib inline\n",
    "import pyximport\n",
    "pyximport.install(setup_args={'include_dirs':[np.get_include()]})\n",
    "from cyOPTICS import runCyOPTICS\n",
    "\n",
    "\n",
    "np.random.seed(0)"
   ]
  },
  {
   "cell_type": "code",
   "execution_count": 4,
   "metadata": {},
   "outputs": [],
   "source": [
    "ICM_file = open(\"../datasets/data_ICM_title_abstract.csv\", 'r')\n",
    "\n",
    "def rowSplit (rowString):\n",
    "    \n",
    "    split = rowString.split(\",\")\n",
    "    split[2] = split[2].replace(\"\\n\",\"\")\n",
    "    \n",
    "    split[0] = int(split[0])#itemID = row\n",
    "    split[1] = int(split[1])#feature = column\n",
    "    split[2] = int(float(split[2]))#value\n",
    "    result = tuple(split)\n",
    "    \n",
    "    return result\n",
    "\n",
    "\n",
    "\n",
    "ICM_file.seek(0)\n",
    "ICM_tuples = []\n",
    "ICM_file.readline()#questa è importante di cristo c'è riga di introduzione\n",
    "for line in ICM_file:\n",
    "    ICM_tuples.append(rowSplit (line))\n",
    "\n",
    "\n",
    "#ora devo costruire saggiamente la matrice\n",
    "\n",
    "\n",
    "data = np.array(ICM_tuples)\n",
    "#print(\"Numero di rating:\"+str(data.shape[0]))\n",
    "#crea URM\n",
    "result = np.zeros((data[:,0].max()+1, data[:,1].max()+1), dtype=int)\n",
    "result[data[:,0], data[:,1]] = data[:,2] \n",
    "\n",
    "\n"
   ]
  },
  {
   "cell_type": "code",
   "execution_count": 5,
   "metadata": {},
   "outputs": [
    {
     "name": "stdout",
     "output_type": "stream",
     "text": [
      "(25975, 20000)\n"
     ]
    }
   ],
   "source": [
    "print(result.shape)#forma della matrice \n",
    "\n",
    "\n",
    "import scipy.sparse as sps\n",
    "\n",
    "ICM_all = sps.coo_matrix(result)\n",
    "ICM_all = ICM_all.tocsr()"
   ]
  },
  {
   "cell_type": "code",
   "execution_count": 6,
   "metadata": {},
   "outputs": [
    {
     "data": {
      "text/plain": [
       "(20000, 25975)"
      ]
     },
     "execution_count": 6,
     "metadata": {},
     "output_type": "execute_result"
    }
   ],
   "source": [
    "ICM_T = ICM_all.transpose()\n",
    "ICM_T.shape"
   ]
  },
  {
   "cell_type": "code",
   "execution_count": null,
   "metadata": {},
   "outputs": [],
   "source": [
    "clustering = runCyOPTICS(ICM_T.toarray().astype('float64'), 2, 10)"
   ]
  },
  {
   "cell_type": "code",
   "execution_count": null,
   "metadata": {},
   "outputs": [],
   "source": [
    "clustering"
   ]
  },
  {
   "cell_type": "code",
   "execution_count": null,
   "metadata": {},
   "outputs": [],
   "source": []
  }
 ],
 "metadata": {
  "kernelspec": {
   "display_name": "Python 3",
   "language": "python",
   "name": "python3"
  },
  "language_info": {
   "codemirror_mode": {
    "name": "ipython",
    "version": 3
   },
   "file_extension": ".py",
   "mimetype": "text/x-python",
   "name": "python",
   "nbconvert_exporter": "python",
   "pygments_lexer": "ipython3",
   "version": "3.7.6"
  }
 },
 "nbformat": 4,
 "nbformat_minor": 4
}
